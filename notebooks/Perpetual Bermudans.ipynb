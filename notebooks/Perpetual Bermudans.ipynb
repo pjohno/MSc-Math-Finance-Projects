{
 "cells": [
  {
   "cell_type": "markdown",
   "metadata": {},
   "source": [
    "# Perpetual Bermudan Options\n",
    "\n",
    "Click here for an interactive version of this notebook:-\n",
    "[![Binder](https://mybinder.org/badge.svg)](https://mybinder.org/v2/gh/pjohno/MSc-Math-Finance-2018/master?filepath=notebooks%2FMSc%20Project%207%20-%20Perpetual%20Bermudans.ipynb)\n",
    "\n",
    "\n",
    "Consider the well-known Black and Scholes (1973) partial differential equation for an option with an underlying\n",
    "asset following geometric Brownian motion:\n",
    "$$\n",
    "\\frac{\\partial{V}}{\\partial{t}} + \\frac{1}{2} {\\sigma}^2 S^2\n",
    "\\frac{\\partial {^2V}}{\\partial{S^2}} + (r-D_c) S\n",
    "\\frac{\\partial{V}}{\\partial{S}} - rV = 0,\n",
    "$$\n",
    "where $V(S,t)$ is the price of the derivative product, $S$ the\n",
    "current value of the underlying asset, $t$ is time,  $T$ is the time to maturity\n",
    " $r$ the risk-free interest rate, $\\sigma$ the\n",
    "volatility of the underlying asset and $X$ is the exercise price of the option. \n",
    "$D_c$ is a continuous dividend yield which could, for example, be the foreign \n",
    "interest rate in a foreign exchange option.\n",
    "\n",
    "\n",
    "Assume now that the option is a Bermudan option that can be exercised at fixed interval periods such that $t=t^k = T - k\\Delta T$ for integer values of $k$, and where $T$ is the maturity date of the option. \n",
    "\n",
    "Let $V(S,t;t^k)$ be the value of the option at time $t$, in which the next bermudan exercise opportunity is at $t^k$.\n",
    "Then for a Bermudan put option,  we can find the value of the option $V(S,t;t^k)$ for $t^{k+1}\\leq t <t^k$ by solving the BS PDE with final condition given as\n",
    "\n",
    "$$\n",
    "\\quad V(S,T - k\\Delta T;T - k\\Delta T) = \\left\\{ \n",
    "\\begin{array}{cc}\n",
    "X - S & \\text{ if } S < \\theta^k  \\\\\n",
    "V(S,T -k\\Delta T ;T - (k-1)\\Delta T ) & \\text{ if } S>\\theta^k\n",
    "\\end{array}\n",
    "\\right.\n",
    "$$\n",
    "\n",
    "where $\\theta^k$ is the optimal exercise decision point at $t^k$, at which\n",
    "$$\n",
    "S - \\theta^k = V(\\theta^k,t^k ; t^{k-1} )\n",
    "$$\n",
    "holds true. \n",
    "\n",
    "If the final maturity date of the option is far into the future and $T\\rightarrow\\infty$, then we should find that\n",
    "$$\n",
    "\\lim_{k\\rightarrow\\infty} \\theta^k = \\bar \\theta\n",
    "$$\n",
    "for some constant $\\bar \\theta$ and \n",
    "$$\n",
    "\\lim_{k\\rightarrow\\infty} \\bigg[ V(S,t ; t^{k+1} ) - V(S,t + \\Delta T ; t^k ) \\bigg] = 0 \\quad \\forall S,t .\n",
    "$$\n",
    "\n",
    "Next make the following standard\n",
    "transformations                \n",
    "$$\n",
    "x = \\log(S_0),\n",
    "$$\n",
    "$$\n",
    "y = \\log(S_{T}).\n",
    "$$\n",
    "The value of \n",
    "the option at time $t=t^{k+1}$ on an underlying asset  $S_0$ where $S_0>\\theta^{k+1}$, has an  exact solution given by \n",
    "\n",
    "$$\n",
    "V(x,t^{k+1};t^k) = A (x) \\int_{-\\infty}^{\\log(\\theta^k)} B(x,y) (X - e^y)\\, dy + A (x) \\int_{\\log(\\theta^k)}^{\\infty} B(x,y)V(y,t^{k};t^{k-1}) \\, dy,\n",
    "$$\n",
    "where, \n",
    "$$\n",
    "A(x) = \\frac{1}{\\sqrt{2\\sigma^2\\pi \\Delta T}} e^{-\\frac12 kx-\\frac18 \n",
    "\\sigma^2k^2 \\Delta T - r \\Delta T},\n",
    "$$\n",
    "and\n",
    "$$\n",
    "B(x,y) = e^{-\\frac{(x-y)^2}{2\\sigma^2 \\Delta T} + \\frac12 ky}\n",
    "$$\n",
    "and\n",
    "$$\n",
    "k = \\frac{2(r-D_c)}{{\\sigma}^2} -1.\n",
    "$$\n",
    "\n",
    "For the perpetual option, we solve for $k$ increasing until the difference between successive values of $\\theta^k$ are sufficiently small. \n",
    "\n",
    "We solve this problem by setting up a structure containing all the relavent functions. This will contain the functions $A$, $B$, a method for integrating and a method to return the value $V(x,0)$. First include libraries:"
   ]
  },
  {
   "cell_type": "code",
   "execution_count": 1,
   "metadata": {},
   "outputs": [],
   "source": [
    "#include <iostream>\n",
    "#include <algorithm>\n",
    "#include <cmath>\n",
    "#include <vector>\n",
    "#include <functional>"
   ]
  },
  {
   "cell_type": "markdown",
   "metadata": {},
   "source": [
    "Now assume that the value of the Bermudan option $V(y,t^k;t^{k-1})$ can be approximated by discrete set of points on a fixed grid. First assume that $\\theta^0$ is given, so that we can create a grid\n",
    "$$\n",
    "y_i = log(\\theta^0) + i dy \\quad \\text{ for } i = 0,1,2,\\dots N\n",
    "$$\n",
    "where $y_N$ is sufficiently large.\n",
    "\n",
    "The we can say that \n",
    "$$\n",
    "V(y_i,t^k;t^{k-1}) = v_i^k.\n",
    "$$\n",
    "An appropriate starting point for this calculation would be to set $\\theta^0$ and $v_i^k$ to the appropriate perpetual put option values. Then we given a guess can solve for $V$ at $t^{k+1}$ using the formula\n",
    "$$\n",
    "V(x,t^{k+1};t^{k}) = \\Phi(x,\\theta^0) + A(x) \\sum_{i=0}^N B(x,y_i) w_i v^k_i \n",
    "$$\n",
    "where $\\Phi$ represents an adapted cummulative normal distribution to solve the left integral, and $w_i$ is the weighting for an appropriate numerical integration.\n",
    "\n",
    "First create functions $A$ and $B$."
   ]
  },
  {
   "cell_type": "code",
   "execution_count": 2,
   "metadata": {},
   "outputs": [],
   "source": [
    "// the function A\n",
    "double A(double x, double r, double sigma, double k, double dt)\n",
    "{\n",
    "    return 1. / sqrt(2 * sigma*sigma*M_PI*dt) * exp(-0.5*k*x - 0.125*sigma*sigma*k*k*dt - r*dt);\n",
    "}"
   ]
  },
  {
   "cell_type": "code",
   "execution_count": 3,
   "metadata": {},
   "outputs": [],
   "source": [
    "// the function B\n",
    "double B(double x, double y, double sigma, double k, double dt)\n",
    "{\n",
    "    return exp(-(x - y)*(x - y) / (2.*sigma*sigma*dt) + 0.5 * k * y);\n",
    "}"
   ]
  },
  {
   "cell_type": "markdown",
   "metadata": {},
   "source": [
    "Next create an appropriate intregration algorithm\n"
   ]
  },
  {
   "cell_type": "code",
   "execution_count": 4,
   "metadata": {},
   "outputs": [],
   "source": [
    "// integration proceedure: integrate the function f_i at the points y_i, contained in a vector integrand\n",
    "// PLEASE note that here we are assuming that the grid is equally spaced\n",
    "// nDown, nUp reference the subsection of the vector y we wish to integrate over\n",
    "double integrate(int nDown, int nUp,const std::vector<double> &y,const std::vector<double> &integrand)\n",
    "{\n",
    "    double sum, h = (y[nUp] - y[nDown]) / (nUp - nDown);\n",
    "    sum = integrand[nDown];\n",
    "    for (int i = nDown+2; i<nUp; i+=2)\n",
    "    {\n",
    "        sum += 2.*integrand[i];\n",
    "    }\n",
    "    for (int i = nDown+1; i<nUp; i+=2)\n",
    "    {\n",
    "        sum +=  4.*integrand[i];\n",
    "    }\n",
    "    sum += integrand[nUp];\n",
    "    return h / 3.*sum;\n",
    "}"
   ]
  },
  {
   "cell_type": "markdown",
   "metadata": {},
   "source": [
    "Now we can value the payoff from an option by inputing the grid, and the value function in that region."
   ]
  },
  {
   "cell_type": "code",
   "execution_count": 5,
   "metadata": {},
   "outputs": [],
   "source": [
    "double valueOption(double  x,double r,double sigma,double T,int n,\n",
    "                   const std::vector<double> &y,const std::vector<double> &payoff_vec)\n",
    "{\n",
    "    // variable k\n",
    "    double k = 2.*r / sigma / sigma - 1.;\n",
    "           \n",
    "    // setup vectors to store option values, and integrand function\n",
    "    // these vectors must be the same size as the y vector\n",
    "    std::vector<double> integrand(y.size());\n",
    "    \n",
    "    for (uint j = 0; j < y.size(); j++)\n",
    "    {\n",
    "        integrand[j] = B( x , y[j] , sigma , k , T ) * payoff_vec[j];\n",
    "    }\n",
    "    // in this example we integrate over the entire range of y, it is possible to select a subrange\n",
    "    return A(x, r, sigma, k, T )*integrate(0, n, y, integrand);\n",
    "      \n",
    "}"
   ]
  },
  {
   "cell_type": "markdown",
   "metadata": {},
   "source": [
    "For example, let us set up a simple scenario:"
   ]
  },
  {
   "cell_type": "code",
   "execution_count": 6,
   "metadata": {},
   "outputs": [],
   "source": [
    "double  S,X,r,sigma,dT;"
   ]
  },
  {
   "cell_type": "code",
   "execution_count": 7,
   "metadata": {},
   "outputs": [
    {
     "name": "stdout",
     "output_type": "stream",
     "text": [
      " A perpetual Bermudan put option ...\n",
      " Initially, we take prepetual American boundary: theta^0 = 75\n",
      " and: P^0(S) = 1.05469e+07 * S^{-3} \n",
      "\n",
      " Next calculate P^1(S) = A(x)*\\int^\\theta B(x,y)*(X-e^y) dy + A(x)*\\int_\\theta B(x,y)*V(y,T) dy \n",
      "\n",
      " P^1(S=75) = 24.6612  ::  P^0(S=75) = 25\n",
      " To find the value of theta^1, we require \n",
      " X - theta^1 - P^1(theta^1) = 0 \n",
      " In this case we have:- \n",
      "100 -  75 - P^1(S=75) = 0.338752\n"
     ]
    }
   ],
   "source": [
    "S = 75; X = 100.; r = 0.06; sigma = 0.2; dT = 0.1;\n",
    "\n",
    "{\n",
    "    int N=500;\n",
    "    double x0 = log(S);\n",
    "    \n",
    "    std::cout << \" A perpetual Bermudan put option ...\\n\";\n",
    "    \n",
    "    // for a perpetual American put option we have \n",
    "    double alpha = -2*r/sigma/sigma;\n",
    "    double theta = X/(1-1./alpha);\n",
    "    std::cout << \" Initially, we take prepetual American boundary: theta^0 = \" << theta << \"\\n\";\n",
    "    double A = -1./alpha*pow(theta,1-alpha);\n",
    "    std::cout << \" and: P^0(S) = \" << A << \" * S^{\"<< alpha << \"} \\n\\n\";\n",
    "    \n",
    "    std::vector<double> yDown(N+1),VDown(N+1);\n",
    "    { \n",
    "      double yMin = log(X*exp(-7.5*sigma*sqrt(dT)));\n",
    "      double yMax = log(theta);\n",
    "      double dy = (yMax - yMin)/N;\n",
    "      // assign grid and corresponding payoff\n",
    "      for(int i=0;i<=N;i++)\n",
    "      {\n",
    "            yDown[i] = yMin + i*dy;\n",
    "            VDown[i] = X - exp(yDown[i]);\n",
    "      }\n",
    "    }\n",
    "    \n",
    "    // set y grid up at the final step, using theta^0 as lower limit\n",
    "    std::vector<double> yUp(N+1),VUp(N+1);\n",
    "    {\n",
    "      double yMin = log(theta);\n",
    "      double yMax = log(X*exp(7.5*sigma*sqrt(dT)));\n",
    "      double dy = (yMax - yMin)/N;\n",
    "      // assign grid and corresponding payoff\n",
    "      for(int i=0;i<=N;i++)\n",
    "      {\n",
    "            yUp[i] = yMin + i*dy;        \n",
    "            VUp[i] = A*exp(alpha*yUp[i]);\n",
    "      }\n",
    "    }\n",
    "    \n",
    "    std::cout << \" Next calculate P^1(S) = A(x)*\\\\int^\\\\theta B(x,y)*(X-e^y) dy + A(x)*\\\\int_\\\\theta B(x,y)*V(y,T) dy \\n\\n\";\n",
    "    // return the value V(x=log(S),0) = A(x)*\\int^\\theta B(x,y)*(X-e^y) dy + A(x)*\\int_\\theta B(x,y)*V(y,T) dy\n",
    "    double value = valueOption(x0,r,sigma,dT,N,yDown,VDown) + valueOption(x0,r,sigma,dT,N,yUp,VUp);\n",
    "    // get equivalent perpetual value\n",
    "    if(S<theta)\n",
    "      std::cout << \" P^1(S=\"<<S<<\") = \" << value << \"  ::  P^0(S=\"<<S<<\") = \" << X - S << \"\\n\";\n",
    "    else\n",
    "      std::cout << \" P^1(S=\"<<S<<\") = \" << value << \"  ::  P^0(S=\"<<S<<\") = \" << A*pow(S,alpha) << \"\\n\";\n",
    "    \n",
    "    std::cout << \" To find the value of theta^1, we require \\n X - theta^1 - P^1(theta^1) = 0 \\n In this case we have:- \\n\";\n",
    "    std::cout << X << \" -  \" << S << \" - P^1(S=\"<<S<<\") = \" << X - S - value << \"\\n\";\n",
    "\n",
    "}"
   ]
  },
  {
   "cell_type": "markdown",
   "metadata": {},
   "source": [
    "Can you find the value of $S$ which satisfies the equation for $\\theta^1$?"
   ]
  }
 ],
 "metadata": {
  "kernelspec": {
   "display_name": "C++14",
   "language": "C++14",
   "name": "xcpp14"
  },
  "language_info": {
   "codemirror_mode": "text/x-c++src",
   "file_extension": ".cpp",
   "mimetype": "text/x-c++src",
   "name": "c++",
   "version": "14"
  }
 },
 "nbformat": 4,
 "nbformat_minor": 2
}
