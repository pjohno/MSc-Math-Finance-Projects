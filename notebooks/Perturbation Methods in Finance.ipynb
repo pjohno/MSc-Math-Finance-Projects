{
 "cells": [
  {
   "cell_type": "markdown",
   "id": "8002e9d9",
   "metadata": {},
   "source": [
    "# Perturbation Methods in Finance\n",
    "\n",
    "Consider the corresponding Black-Scholes partial differential equation to price the\n",
    "European put option $P(S,t)$:\n",
    "$$\n",
    " \\frac{\\partial P}{\\partial t} + \\frac12 \\sigma ^2S^2\\frac{\\partial^2 P}{\\partial S^2} + rS\\frac{\\partial P}{\\partial S} - rP = 0\n",
    "$$\n",
    "subject to the boundary conditions:\n",
    "$$P (S, t = T ) = \\max(X-S, 0),$$\n",
    "$$P (0, t) = Xe^{-r(T-t)} ,$$\n",
    "$$P (S, t) \\rightarrow 0 \\text{ as } S \\rightarrow \\infty.$$\n",
    "where, by convention, $S$ is the value of the underlying asset, $X$ is the strike price of the put\n",
    "option, $\\sigma$ is the volatility, $r$ is the risk-free rate and $t$ is time. Here $\\sigma$ is typically in the 0.2-0.4 value range, which leads to the squared volatility being quite small. Now since $\\sigma^2$ multiplies the highest derivative we have singular perturbation problem.\n",
    "\n",
    "Apply a scaling such that the new variables $\\tau$, $\\hat S$, and $\\hat P$, all of constant order (i.e., $O(1)$)\n",
    "$$\n",
    "\\tau = T-t,$$\n",
    "$$\n",
    "\\hat S = \\frac{S - Xe^{-r(T-t)} }{\\sigma},$$\n",
    "$$\\hat P ( \\hat S, \\tau) = \\frac{P(S,t)}{\\sigma}.$$\n",
    "where $\\sigma$ is supposed to be small. Under this transformation we can write a regular asymptotic expansion \n",
    "$$\n",
    "\\hat P ( \\hat S, \\tau) = \\hat P_0( \\hat S, \\tau) + \\sigma \\hat P_1( \\hat S, \\tau) + \\sigma^2 \\hat P_2( \\hat S, \\tau) + \\dots\n",
    "$$\n",
    "and at leading order $O(\\sigma)$ we have\n",
    "$$\n",
    "-\\frac{\\partial \\hat P_0}{\\partial \\tau} + \\frac12 \\left(Xe^{-r\\tau}\\right)^2\\frac{\\partial^2 \\hat P_0}{\\partial \\hat S^2} +r\\hat S \\frac{\\partial \\hat P_0}{\\partial \\hat S} - rP_0 = 0\n",
    "$$\n",
    "and at the next $O(\\sigma^2)$ equation is\n",
    "$$\n",
    "-\\frac{\\partial \\hat P_1}{\\partial \\tau} + \\frac12 \\left(Xe^{-r\\tau}\\right)^2\\frac{\\partial^2 \\hat P_1}{\\partial \\hat S^2} +r\\hat S \\frac{\\partial \\hat P_1}{\\partial \\hat S}- rP_1 = -SXe^{r\\tau}\\frac{\\partial^2 \\hat P_0}{\\partial \\hat S^2}.\n",
    "$$\n",
    "In general for $O(\\sigma^{n+1})$ and $n\\geq 2$ we can write\n",
    "$$\n",
    "-\\frac{\\partial \\hat P_n}{\\partial \\tau} + \\frac12 \\left(Xe^{-r\\tau}\\right)^2\\frac{\\partial^2 \\hat P_n}{\\partial \\hat S^2} +r\\hat S \\frac{\\partial \\hat P_n}{\\partial \\hat S}- rP_n = -SXe^{r\\tau}\\frac{\\partial^2 \\hat P_{n-1}}{\\partial \\hat S^2} + \\frac12 \\hat S^2 \\frac{\\partial^2 \\hat P_{n-2}}{\\partial \\hat S^2}.\n",
    "$$\n",
    "\n",
    "The boundary conditions for the problem are given at $n=0$ by\n",
    "$$\n",
    "\\hat P_0(\\hat S,\\tau=0) = \\max(-\\hat S,0),\n",
    "$$\n",
    "$$\n",
    "\\hat P_0 \\rightarrow 0 \\text{ as } \\hat S \\rightarrow \\infty,\n",
    "$$\n",
    "$$\n",
    "\\frac{\\partial \\hat P_0}{\\partial \\hat S} \\rightarrow -1 \\text{ as } \\hat S \\rightarrow -\\infty,\n",
    "$$\n",
    "and for $n\\geq 1$ we solve according to\n",
    "$$\n",
    "\\hat P_n(\\hat S,\\tau=0) = 0,\n",
    "$$\n",
    "$$\n",
    "\\hat P_n \\rightarrow 0 \\text{ as } \\hat S \\rightarrow \\infty,\n",
    "$$\n",
    "$$\n",
    "\\hat P_n \\rightarrow 0 \\text{ as } \\hat S \\rightarrow -\\infty .$$"
   ]
  },
  {
   "cell_type": "markdown",
   "id": "30fee31a",
   "metadata": {},
   "source": [
    "Now for the coding. Add in some libraries for plotting, as well as a tridiagonal solver and lagrange interpolator, both needed here."
   ]
  },
  {
   "cell_type": "code",
   "execution_count": 1,
   "id": "eb240a28",
   "metadata": {},
   "outputs": [],
   "source": [
    "#include \"msc_project_perturbationMethods.hpp\""
   ]
  },
  {
   "cell_type": "markdown",
   "id": "2656ee08",
   "metadata": {},
   "source": [
    "First we solve for $P_0$, showing how the solution is formed and then transformed back to the original variables. Declare some required variables:"
   ]
  },
  {
   "cell_type": "code",
   "execution_count": 2,
   "id": "01cc2b6f",
   "metadata": {},
   "outputs": [],
   "source": [
    "double T=1.; // contract maturity date\n",
    "double r=0.03; // risk free interest rate\n",
    "double X=1.; // strike price\n",
    "// declare and initialise grid paramaters \n",
    "int iMax=100; // number of time steps\n",
    "int jMax=100; // number of space steps\n",
    "\n",
    "// declare and initialise local grid variables (dlambda,dt)\n",
    "double sHat_min=-5*X;\n",
    "double sHat_max=5*X;\n",
    "double dS=(sHat_max-sHat_min)/jMax;\n",
    "double dt=T/iMax;\n",
    "\n",
    "std::vector<double> sHat(jMax+1);\n",
    "std::vector<double> P0(jMax+1);"
   ]
  },
  {
   "cell_type": "markdown",
   "id": "ed610a2a",
   "metadata": {},
   "source": [
    "Initialise values with the boundary condition."
   ]
  },
  {
   "cell_type": "code",
   "execution_count": 3,
   "id": "9c5df87b",
   "metadata": {},
   "outputs": [],
   "source": [
    "for(int j=0;j<=jMax;j++)\n",
    "    sHat[j] = sHat_min + j*dS;\n",
    "// setup and initialise the final conditions on the option price \n",
    "// for n=0 we have P_0 = max(-\\hat S,0) \n",
    "for(int j=0;j<=jMax;j++)\n",
    "    P0[j] = std::max(-sHat[j],0.);"
   ]
  },
  {
   "cell_type": "markdown",
   "id": "d4a35be5",
   "metadata": {},
   "source": [
    "Now solve backwards in time using a Crank-Nicolson finite difference scheme"
   ]
  },
  {
   "cell_type": "code",
   "execution_count": 4,
   "id": "464d70e0",
   "metadata": {},
   "outputs": [],
   "source": [
    "for(int i=iMax-1;i>=0;i--)\n",
    "{\n",
    "    double tau=T-(i+0.5)*dt;\n",
    "    // declare vectors for matrix equations\n",
    "    std::vector<double> a(jMax+1),b(jMax+1),c(jMax+1),d(jMax+1);\n",
    "    \n",
    "    // O(sigma) equation\n",
    "    \n",
    "    // set up matrix equations for the boundary at lambda=0\n",
    "    a[0]=0.;b[0]=-1/dS;c[0]=1./dS;d[0] = -1.;\n",
    "    // set up the scheme in the middle\n",
    "    for(int j=1;j<=jMax-1;j++)\n",
    "    {\n",
    "      a[j]=0.25*X*X*exp(-2.*r*tau)/dS/dS-0.25*r*sHat[j]/dS;\n",
    "      b[j]=-0.5*X*X*exp(-2.*r*tau)/dS/dS - 0.5*r - 1./dt;\n",
    "      c[j]=0.25*X*X*exp(-2.*r*tau)/dS/dS+0.25*r*sHat[j]/dS;\n",
    "      d[j]=-a[j]*P0[j-1]-(b[j]+2./dt)*P0[j]-c[j]*P0[j+1];\n",
    "    }\n",
    "    // set up boundary at lambda_max\n",
    "    a[jMax]=0.;b[jMax]=1.;c[jMax]=0.;d[jMax] = 0.;\n",
    "    // solve the system of equations with Thomas algorithm\n",
    "    // note that \"d\" contains the solution on exit\n",
    "    MATH60082::thomasSolve(a,b,c,d);\n",
    "    P0=d;\n",
    "}"
   ]
  },
  {
   "cell_type": "markdown",
   "id": "294f610d",
   "metadata": {},
   "source": [
    "Now we can plot out the solution for $\\hat P_0(\\hat S,\\tau=T)$ against $\\hat S$, which should look something like this:"
   ]
  },
  {
   "cell_type": "code",
   "execution_count": 5,
   "id": "be105255",
   "metadata": {},
   "outputs": [
    {
     "data": {
      "image/png": "[encoded data removed]"
     },
     "execution_count": 5,
     "metadata": {},
     "output_type": "execute_result"
    }
   ],
   "source": [
    "{\n",
    "    std::stringstream ss(\"set xrange [-5:5]\\n\"\n",
    "                        \"set xlabel \\\"sHat\\\"\\n\"\n",
    "                        \"set ylabel \\\"P0(sHat,tau=T)\\\"\\n\");\n",
    "    figure = G.plotData(sHat,P0,&ss);\n",
    "}\n",
    "figure"
   ]
  },
  {
   "cell_type": "markdown",
   "id": "21f01828",
   "metadata": {},
   "source": [
    "Now what we really want is the option value in the original variables, so to do this we need to calculate the value of $\\hat S$ for a given $S_0$. Consider the case with $S_0=0.965$, and choosing some small value $\\sigma=0.1$, we can calculate\n",
    "$$\n",
    "\\hat S_0 = \\frac{S_0-Xe^{-rT}}{\\sigma} = -0.054455335\n",
    "$$\n",
    "so\n",
    "$$\n",
    "P(S=0.965,t=0) = \\sigma \\hat P_0(\\hat S = -0.054455335,\\tau=T)\n",
    "$$"
   ]
  },
  {
   "cell_type": "code",
   "execution_count": 6,
   "id": "0997ba2a",
   "metadata": {},
   "outputs": [
    {
     "name": "stdout",
     "output_type": "stream",
     "text": [
      "P(S=0.965) = 0.0414493\n"
     ]
    }
   ],
   "source": [
    "double S0=0.965; // initial stock price\n",
    "double sigma=0.1; // value of sigma\n",
    "\n",
    "// calculate value of sHat\n",
    "double sHat0 = (S0-X*exp(-r*T))/sigma;\n",
    "\n",
    "// apply perturbation expansion\n",
    "std::cout << \"P(S=\"<<S0<<\") = \" << sigma*MATH60082::lagrangeInterpolation(P0,sHat,sHat0) << std::endl;"
   ]
  },
  {
   "cell_type": "markdown",
   "id": "94266463",
   "metadata": {},
   "source": [
    "The analytic value of the option should be $P(S,t)=0.04137427$ so we can see that our approximation is not too far away."
   ]
  },
  {
   "cell_type": "markdown",
   "id": "bd4936e9",
   "metadata": {},
   "source": [
    "We can now write this in a handy function to calculate the result, noting that if you are outside the shear layer you should use the outer solution."
   ]
  },
  {
   "cell_type": "code",
   "execution_count": 7,
   "id": "c60c0419",
   "metadata": {},
   "outputs": [],
   "source": [
    "double getOptionValue(const std::vector<double> &sHat,\n",
    "\t\t      const std::vector<double>& P0,\n",
    "\t\t      double S0, // initial stock value\n",
    "\t\t      double T, // contract maturity date\n",
    "\t\t      double X, // risk free interest rate\n",
    "\t\t      double r, // risk free interest rate\n",
    "\t\t      double sigma // volatility of default rate\n",
    ")\n",
    "{\n",
    "  // finish looping through time levels\n",
    "  // return the interpolated value at lambda0\n",
    "  double sHat0 = (S0-X*exp(-r*T))/sigma;\n",
    "  // \n",
    "  if(sHat0 > sHat[sHat.size()-1])\n",
    "      return 0.;\n",
    "  else if(sHat0 < sHat.front())\n",
    "      return X*exp(-r*T)-S0;\n",
    "  else\n",
    "      return sigma*MATH60082::lagrangeInterpolation(P0,sHat,sHat0);\n",
    "} "
   ]
  },
  {
   "cell_type": "markdown",
   "id": "ebca5077",
   "metadata": {},
   "source": [
    "Now use this "
   ]
  },
  {
   "cell_type": "code",
   "execution_count": 8,
   "id": "dd69941f",
   "metadata": {},
   "outputs": [
    {
     "data": {
      "image/png": "[encoded data removed]"
     },
     "execution_count": 8,
     "metadata": {},
     "output_type": "execute_result"
    }
   ],
   "source": [
    "int plotPoints=100;\n",
    "double SMAX = 2*X;\n",
    "std::vector<double> stockPrice(plotPoints+1);\n",
    "std::vector<double> optionValues(plotPoints+1);\n",
    "  for(int i=0;i<=plotPoints;i++)\n",
    "  {\n",
    "      double ds = SMAX/plotPoints;\n",
    "      stockPrice[i] = i*ds;\n",
    "      optionValues[i] = getOptionValue(sHat,P0,stockPrice[i],T,X,r,sigma);  \n",
    "  }\n",
    "  {\n",
    "    std::stringstream ss(\"set xrange [0:2]\\n\"\n",
    "                        \"set xlabel \\\"S\\\"\\n\"\n",
    "                        \"set ylabel \\\"P(S,t=0)\\\"\\n\");\n",
    "    figure = G.plotData(stockPrice,optionValues,&ss);\n",
    "}\n",
    "figure"
   ]
  },
  {
   "cell_type": "markdown",
   "id": "0e41cbe8",
   "metadata": {},
   "source": [
    "# The (n+1)th term Expansion\n",
    "\n",
    "Now we move onto the $(n+1)$th term expansion. For this we need a variable that stores the value of $P_i$ for $0\\leq i \\leq n$. Therefore declare this value variable as\n",
    "\n"
   ]
  },
  {
   "cell_type": "code",
   "execution_count": 9,
   "id": "9a38abd1",
   "metadata": {},
   "outputs": [],
   "source": [
    "int n=1;// for two terms, n=1\n",
    "\n",
    "std::vector<std::vector<double>> vNew(n+1,std::vector<double>(jMax+1));"
   ]
  },
  {
   "cell_type": "markdown",
   "id": "25c99b9b",
   "metadata": {},
   "source": [
    "Initialise parameters"
   ]
  },
  {
   "cell_type": "code",
   "execution_count": 10,
   "id": "d1385e2f",
   "metadata": {},
   "outputs": [],
   "source": [
    "// setup and initialise the final conditions on the option price \n",
    "// for ni=0 we have P_0 = max(-\\hat S,0) \n",
    "for(int j=0;j<=jMax;j++)\n",
    "{\n",
    "    vNew[0][j] = std::max(-sHat[j],0.);\n",
    "}\n",
    "// for ni>0 we have P_ni = 0\n",
    "for(int ni=1;ni<=n;ni++)\n",
    "{\n",
    "    for(int j=0;j<=jMax;j++)\n",
    "    {\n",
    "        vNew[ni][j] = 0.;\n",
    "    }\n",
    "}\n",
    "  "
   ]
  },
  {
   "cell_type": "markdown",
   "id": "12b27409",
   "metadata": {},
   "source": [
    "Step backwards through time"
   ]
  },
  {
   "cell_type": "code",
   "execution_count": 11,
   "id": "8c6a025b",
   "metadata": {},
   "outputs": [],
   "source": [
    "for(int i=iMax-1;i>=0;i--)\n",
    "{\n",
    "    std::vector<std::vector<double>> vOld = vNew;\n",
    "    \n",
    "    double tau=T-(i+0.5)*dt;\n",
    "    // declare vectors for matrix equations\n",
    "    std::vector<double> a(jMax+1),b(jMax+1),c(jMax+1),d(jMax+1);\n",
    "    \n",
    "    // O(sigma) equation\n",
    "    \n",
    "    // set up matrix equations for the boundary at lambda=0\n",
    "    a[0]=0.;b[0]=-1/dS;c[0]=1./dS;d[0] = -1.;\n",
    "    // set up the scheme in the middle\n",
    "    for(int j=1;j<=jMax-1;j++)\n",
    "    {\n",
    "      a[j]=0.25*X*X*exp(-2.*r*tau)/dS/dS-0.25*r*sHat[j]/dS;\n",
    "      b[j]=-0.5*X*X*exp(-2.*r*tau)/dS/dS - 0.5*r - 1./dt;\n",
    "      c[j]=0.25*X*X*exp(-2.*r*tau)/dS/dS+0.25*r*sHat[j]/dS;\n",
    "      d[j]=-a[j]*vOld[0][j-1]-(b[j]+2./dt)*vOld[0][j]-c[j]*vOld[0][j+1];\n",
    "    }\n",
    "    // set up boundary at lambda_max\n",
    "    a[jMax]=0.;b[jMax]=1.;c[jMax]=0.;d[jMax] = 0.;\n",
    "    // solve the system of equations with Thomas algorithm\n",
    "    // note that \"d\" contains the solution on exit\n",
    "    MATH60082::thomasSolve(a,b,c,d);\n",
    "    vNew[0]=d;\n",
    "    \n",
    "    \n",
    "    // O(sigma^2) equation\n",
    "    \n",
    "    // set up matrix equations for the boundary at lambda=0\n",
    "    a[0]=0.;b[0]=1.;c[0]=0.;d[0] = 0.;\n",
    "    // set up the scheme in the middle\n",
    "    for(int j=1;j<=jMax-1;j++)\n",
    "    {\n",
    "        // a,b,c are the same at every order, so don't need to recalculate\n",
    "        // get the value of d2P_0dS^2 at the grid point, and add it in\n",
    "        double d2P0dS2 = 0.5*(vNew[0][j-1]-2*vNew[0][j]+vNew[0][j+1] + vOld[0][j-1]-2*vOld[0][j]+vOld[0][j+1])/dS/dS;\n",
    "        d[j]=-a[j]*vOld[1][j-1]-(b[j]+2./dt)*vOld[1][j]-c[j]*vOld[1][j+1] - sHat[j]*X*exp(-r*tau)*d2P0dS2;\n",
    "    }\n",
    "    // set up boundary at lambda_max\n",
    "    a[jMax]=0.;b[jMax]=1.;c[jMax]=0.;d[jMax] = 0.;\n",
    "    // solve the system of equations with Thomas algorithm\n",
    "    // note that \"d\" contains the solution on exit\n",
    "    MATH60082::thomasSolve(a,b,c,d);\n",
    "    vNew[1]=d;\n",
    "    \n",
    "    // O(sigma^{n+1}) for n>=2\n",
    "    // can you fill this in?\n",
    "    for(int ni=2;ni<=n;ni++)\n",
    "    {\n",
    "        // set up matrix equations for the boundary at lambda=0\n",
    "        a[0]=0.;b[0]=1.;c[0]=0.;d[0] = 0.;\n",
    "        // set up the scheme in the middle\n",
    "        for(int j=1;j<=jMax-1;j++)\n",
    "        {\n",
    "            // a,b,c are the same at every order, so don't need to recalculate\n",
    "            // what should d be?\n",
    "            d[j] = 0.;\n",
    "        }\n",
    "        // set up boundary at lambda_max\n",
    "        a[jMax]=0.;b[jMax]=1.;c[jMax]=0.;d[jMax] = 0.;\n",
    "        // solve the system of equations with Thomas algorithm\n",
    "        // note that \"d\" contains the solution on exit\n",
    "        MATH60082::thomasSolve(a,b,c,d);\n",
    "        vNew[ni]=d;\n",
    "    \n",
    "    }\n",
    "}"
   ]
  },
  {
   "cell_type": "markdown",
   "id": "c6b26227",
   "metadata": {},
   "source": [
    "Rewrite the option value calculator, to allow for expanded terms."
   ]
  },
  {
   "cell_type": "code",
   "execution_count": 12,
   "id": "7cd5cf6c",
   "metadata": {},
   "outputs": [],
   "source": [
    "double getOptionValue(const std::vector<double> &sHat,\n",
    "\t\t      const std::vector<std::vector<double>>& v,\n",
    "\t\t      double S0, // initial stock value\n",
    "\t\t      double T, // contract maturity date\n",
    "\t\t      double X, // strike price\n",
    "\t\t      double r, // risk free interest rate\n",
    "\t\t      double sigma, // volatility of default rate\n",
    "              unsigned int n // nth term expansion\n",
    ")\n",
    "{\n",
    "  // finish looping through time levels\n",
    "  // return the interpolated value at lambda0\n",
    "  double sHat0 = (S0-X*exp(-r*T))/sigma;\n",
    "  // \n",
    "  if(sHat0 > sHat[sHat.size()-1])\n",
    "      return 0.;\n",
    "  else if(sHat0 < sHat.front())\n",
    "      return X*exp(-r*T)-S0;\n",
    "  else\n",
    "  {\n",
    "      double temp=0.;\n",
    "      for(int ni=0;ni<=std::min(n,(unsigned int)(v.size())-1);ni++){\n",
    "          temp+=pow(sigma,ni+1)*MATH60082::lagrangeInterpolation(v[ni],sHat,sHat0);\n",
    "      }\n",
    "      return temp;\n",
    "  }\n",
    "} "
   ]
  },
  {
   "cell_type": "markdown",
   "id": "1887b303",
   "metadata": {},
   "source": [
    "Now let's check this again against the analytic value."
   ]
  },
  {
   "cell_type": "code",
   "execution_count": 13,
   "id": "a18a7c1f",
   "metadata": {},
   "outputs": [
    {
     "name": "stdout",
     "output_type": "stream",
     "text": [
      "P(S=0.965;n=0) = 0.0414493\n",
      "P(S=0.965;n=1) = 0.0413407\n"
     ]
    }
   ],
   "source": [
    "double S0=0.965; // initial stock price\n",
    "double sigma=0.1; // value of sigma\n",
    "\n",
    "// calculate value of sHat\n",
    "double sHat0 = (S0-X*exp(-r*T))/sigma;\n",
    "\n",
    "// apply perturbation expansion\n",
    "std::cout << \"P(S=\"<<S0<<\";n=0) = \" << getOptionValue(sHat,vNew,S0,T,X,r,sigma,0) << std::endl;\n",
    "std::cout << \"P(S=\"<<S0<<\";n=1) = \" << getOptionValue(sHat,vNew,S0,T,X,r,sigma,1) << std::endl;"
   ]
  },
  {
   "cell_type": "markdown",
   "id": "fd196030",
   "metadata": {},
   "source": [
    "As expected, the two term expansion is closer to the analytic value of the option $P(S,t)=0.04137427$ so we can see that our approximation is working."
   ]
  }
 ],
 "metadata": {
  "kernelspec": {
   "display_name": "C++17",
   "language": "C++17",
   "name": "xcpp17"
  },
  "language_info": {
   "codemirror_mode": "text/x-c++src",
   "file_extension": ".cpp",
   "mimetype": "text/x-c++src",
   "name": "c++",
   "version": "17"
  }
 },
 "nbformat": 4,
 "nbformat_minor": 5
}
