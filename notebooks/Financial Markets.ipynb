{
 "cells": [
  {
   "cell_type": "markdown",
   "id": "b4438d69",
   "metadata": {},
   "source": [
    "# Financial Market Simulations With Imitation\n",
    "\n",
    "This is based on Tedeschi, G., Iori, G. & Gallegati, M. \"The role of communication and imitation in limit order markets\". Eur. Phys. J. B 71, 489 (2009) [click for link to springer](https://doi.org/10.1140/epjb/e2009-00337-6). For an interactive version of the notebook click on the binder icon:\n",
    "\n",
    "[![Binder](https://mybinder.org/badge_logo.svg)](https://mybinder.org/v2/gh/pjohno/MSc-Math-Finance-Projects/master?filepath=notebooks%2FFinancial%20Markets.ipynb)\n",
    "\n"
   ]
  },
  {
   "cell_type": "code",
   "execution_count": 1,
   "id": "2ee41b09",
   "metadata": {},
   "outputs": [],
   "source": [
    "#include \"msc_project_financialMarkets.hpp\""
   ]
  },
  {
   "cell_type": "code",
   "execution_count": 2,
   "id": "d8f3ce45",
   "metadata": {},
   "outputs": [],
   "source": [
    "using namespace MSC_PROJECTS;"
   ]
  },
  {
   "cell_type": "markdown",
   "id": "9df4c513",
   "metadata": {},
   "source": [
    "First we have created an \"Order\" type in the code to store information about each order on the market. The order has the following variables:\n",
    "\n",
    "|Member  | Description   |\n",
    "|--- |--- |\n",
    "|oType   | type of order, i.e. bid or ask |\n",
    "|day     | time period order submitted |\n",
    "|period  | trading period order submitted |\n",
    "|price   | price of bid or ask |\n",
    "|vol     | volume submitted |\n",
    "|agentID | the unique ID of the agent |\n"
   ]
  },
  {
   "cell_type": "code",
   "execution_count": 3,
   "id": "0bd4e8bf",
   "metadata": {},
   "outputs": [
    {
     "name": "stdout",
     "output_type": "stream",
     "text": [
      "Create a new bid order\n",
      " BID  t=0:1 p=100 v=1 agentID=0\n",
      "\n",
      "Create some new ask orders\n",
      " ASK  t=0:2 p=104 v=2 agentID=1\n",
      " ASK  t=1:4 p=102 v=3 agentID=1\n",
      " ASK  t=1:3 p=103 v=4 agentID=1\n",
      " ASK  t=2:3 p=100 v=6 agentID=1\n",
      " BID  t=3:1 p=105 v=5 agentID=0\n"
     ]
    },
    {
     "data": {
      "text/plain": [
       "@0x7f2140624ba0"
      ]
     },
     "execution_count": 3,
     "metadata": {},
     "output_type": "execute_result"
    }
   ],
   "source": [
    "std::cout << \"Create a new bid order\\n\";\n",
    "// create an order\n",
    "Order o1;\n",
    "// give it some values\n",
    "o1.oType = bid;\n",
    "o1.day = 0;\n",
    "o1.period = 1;\n",
    "o1.price = 100;\n",
    "o1.vol = 1;\n",
    "o1.agentID = 0;\n",
    "    \n",
    "std::cout << o1 << std::endl;\n",
    "    \n",
    "std::cout << \"\\nCreate some new ask orders\\n\";\n",
    "// create another order\n",
    "Order o2 = { ask , 0 , 2, 104 , 2, 1};\n",
    "Order o3 = { ask , 1 , 4, 102 , 3, 1};\n",
    "Order o4 = { ask , 1 , 3, 103 , 4, 1};\n",
    "Order o5 = { ask , 2 , 3, 100 , 6, 1};\n",
    "Order o6 = { bid , 3 , 1, 105 , 5, 0};\n",
    "\n",
    "std::cout << o2 << std::endl;\n",
    "std::cout << o3 << std::endl;\n",
    "std::cout << o4 << std::endl;\n",
    "std::cout << o5 << std::endl;\n",
    "std::cout << o6 << std::endl;\n",
    "    "
   ]
  },
  {
   "cell_type": "markdown",
   "id": "7dd97b6d",
   "metadata": {},
   "source": [
    "We can now create a set of orders, because of the way the data has been made, this will have the following properties:\n",
    " - orders will be ordered by price first, then day then period\n",
    " - orders must be unique, so two orders can't be the same"
   ]
  },
  {
   "cell_type": "code",
   "execution_count": 4,
   "id": "89d992e0",
   "metadata": {},
   "outputs": [
    {
     "name": "stdout",
     "output_type": "stream",
     "text": [
      "\n",
      "\n",
      "Output the ask order book in priority order\n",
      "0 ::  ASK  t=2:3 p=100 v=6 agentID=1\n",
      "1 ::  ASK  t=1:4 p=102 v=3 agentID=1\n",
      "2 ::  ASK  t=1:3 p=103 v=4 agentID=1\n",
      "3 ::  ASK  t=0:2 p=104 v=2 agentID=1\n"
     ]
    }
   ],
   "source": [
    "// create an order book for asks\n",
    "// use a set here since there should only be a single unique order\n",
    "std::set<Order> askBook;\n",
    "// now add some ORDERS\n",
    "askBook.insert(o2);\n",
    "askBook.insert(o3);\n",
    "askBook.insert(o4);\n",
    "askBook.insert(o5);\n",
    "\n",
    "// Note here\n",
    "std::cout << \"\\n\\nOutput the ask order book in priority order\\n\";\n",
    "{\n",
    "    int priority=0;\n",
    "    for(auto o : askBook)\n",
    "    {\n",
    "        std::cout << priority<< \" :: \" << o << std::endl;\n",
    "        priority++;\n",
    "    }\n",
    "}"
   ]
  },
  {
   "cell_type": "markdown",
   "id": "13d804c7",
   "metadata": {},
   "source": [
    "Now consider an agent $A$ in the market. The agent will need to keep track of money, assets and any offers on the market. If we want to build imitation network we also need to track outgoing and incoming links.\n",
    "\n",
    "|Member | Description |\n",
    "|--- |--- |\n",
    "|AgentIndex | unique ID |\n",
    "|delta | amount of stocks |\n",
    "|availableDelta  | amount of stocks available |\n",
    "|cash | amount of cash held in the account |\n",
    "|availableCash | amount of cash available |\n",
    "|fitness |  fitness relative to all other agents |\n",
    "|r | agents estimated return |\n",
    "|outgoingLink | the identity of the agent that we are following |\n",
    "|incomingLinks | the identities of the agents that are following us |\n",
    "|marketOrders | current list of market orders submitted by the agent |\n",
    "\n",
    "Here the agents wealth $W_t$ at time $t$ is calculated as\n",
    "$$\n",
    "W_t = C_t + \\Delta_t p_t\n",
    "$$\n",
    "where\n",
    "- $p_t$ is the current market price at time $t$\n",
    "- $C_t$ is the agents cash at time $t$\n",
    "- $\\Delta_t$ is the number of assets held at time $t$\n",
    "\n",
    "Notice that we also store information about the agent's cash/assets that are commited inside bids/asks, so denote\n",
    "$\\hat C_t $ as the available cash at time $t$ (so cash minus all bids if they were executed) and $\\hat \\Delta_t $ as the available assets. \n"
   ]
  },
  {
   "cell_type": "code",
   "execution_count": 5,
   "id": "65f28a52",
   "metadata": {},
   "outputs": [
    {
     "name": "stdout",
     "output_type": "stream",
     "text": [
      " Agent:= 0\n",
      " Cash:= 1000 Assets:= 10\n",
      " Available Cash:= 1000 Available Assets:= 10\n",
      " Outgoing Link: =>> 0\n",
      " Incoming Links:\n"
     ]
    }
   ],
   "source": [
    "Agent A;\n",
    "A.AgentIndex=0;\n",
    "A.delta = 10;\n",
    "A.availableDelta = 10;\n",
    "A.cash = 1000;\n",
    "A.availableCash = 1000;\n",
    "std::cout << A;"
   ]
  },
  {
   "cell_type": "markdown",
   "id": "6abb817a",
   "metadata": {},
   "source": [
    "Try adding in the offer \"o1\", we need to adjust available cash/delta according to whether it is a bid/ask."
   ]
  },
  {
   "cell_type": "code",
   "execution_count": 6,
   "id": "9bb46ebc",
   "metadata": {},
   "outputs": [
    {
     "name": "stdout",
     "output_type": "stream",
     "text": [
      " Agent:= 0\n",
      " Cash:= 1000 Assets:= 10\n",
      " Available Cash:= 900 Available Assets:= 10\n",
      " =>  BID  t=0:1 p=100 v=1 agentID=0\n",
      " Outgoing Link: =>> 0\n",
      " Incoming Links:\n"
     ]
    }
   ],
   "source": [
    "if(o1.oType== bid)\n",
    "    A.availableCash=A.availableCash - o1.vol*o1.price;\n",
    "else\n",
    "    A.availableDelta= A.availableDelta - o1.vol;\n",
    "// put it in the market orders\n",
    "A.marketOrders.insert(o1);\n",
    "std::cout << A;"
   ]
  },
  {
   "cell_type": "markdown",
   "id": "11b2a766",
   "metadata": {},
   "source": [
    "We see that after the bid has been made the available cash $\\hat \\Delta$ is reduced by the amount bid."
   ]
  },
  {
   "cell_type": "markdown",
   "id": "0dd83960",
   "metadata": {},
   "source": [
    "Next we move onto making a \"Market\" containing multiple agents, that can submit bids etc. \n",
    "\n",
    "|Member | Description |\n",
    "|--- |--- |\n",
    "|MarketPrice | store the current market price |\n",
    "|guru | the ID of the agent with the most incoming links |\n",
    "|omega | omega is used to determine the rate at which agents follow other's expectations |\n",
    "| lambda | the probability of linking to a random agent or the current \"guru\" |\n",
    "|rng | random number generator|\n",
    "|   marketAgents  | store a vector of agents |\n",
    "|limitOrderBookAsks |  store the limit order book for ask offers |\n",
    "|limitOrderBookBids | store the limit order book for bid offers |\n",
    "\n",
    "We need to store the market price $p_t$, as well as other parameters describing the network, suck as the current agent with the most incoming links, or the \"guru\". "
   ]
  },
  {
   "cell_type": "code",
   "execution_count": 7,
   "id": "78ceaef9",
   "metadata": {},
   "outputs": [],
   "source": [
    "// setup a new market with 2 agents\n",
    "Market M(2,10,1000);"
   ]
  },
  {
   "cell_type": "markdown",
   "id": "5ea26118",
   "metadata": {},
   "source": [
    "The function `printFullMarketData` prints out all information about the market."
   ]
  },
  {
   "cell_type": "code",
   "execution_count": 8,
   "id": "18d647b0",
   "metadata": {},
   "outputs": [
    {
     "name": "stdout",
     "output_type": "stream",
     "text": [
      "###############\n",
      "# MARKET DATA\n",
      "###############\n",
      " Market Price 0\n",
      " Guru 0 |  Wealth 1000 | Links 0\n",
      "#######\n",
      "# MARKET BIDS\n",
      "######\n",
      "#######\n",
      "# MARKET ASKS\n",
      "######\n",
      "#######\n",
      "# MARKET AGENTS\n",
      "######\n",
      " Agent:= 0\n",
      " Cash:= 1000 Assets:= 10\n",
      " Available Cash:= 1000 Available Assets:= 10\n",
      " Outgoing Link: =>> 0\n",
      " Incoming Links:\n",
      "\n",
      " Agent:= 1\n",
      " Cash:= 1000 Assets:= 10\n",
      " Available Cash:= 1000 Available Assets:= 10\n",
      " Outgoing Link: =>> 1\n",
      " Incoming Links:\n",
      "\n"
     ]
    }
   ],
   "source": [
    "M.printFullMarketData();"
   ]
  },
  {
   "cell_type": "markdown",
   "id": "abf249a7",
   "metadata": {},
   "source": [
    "The function `submitOrder(const Order &o)` lets you submit an order"
   ]
  },
  {
   "cell_type": "code",
   "execution_count": 9,
   "id": "a85d5a4c",
   "metadata": {},
   "outputs": [
    {
     "name": "stdout",
     "output_type": "stream",
     "text": [
      "###############\n",
      "# MARKET DATA\n",
      "###############\n",
      " Market Price 0\n",
      " Guru 0 |  Wealth 1000 | Links 0\n",
      "#######\n",
      "# MARKET BIDS\n",
      "######\n",
      " BID  t=0:1 p=100 v=1 agentID=0\n",
      "#######\n",
      "# MARKET ASKS\n",
      "######\n",
      " ASK  t=1:4 p=102 v=3 agentID=1\n",
      " ASK  t=1:3 p=103 v=4 agentID=1\n",
      " ASK  t=0:2 p=104 v=2 agentID=1\n",
      "#######\n",
      "# MARKET AGENTS\n",
      "######\n",
      " Agent:= 0\n",
      " Cash:= 1000 Assets:= 10\n",
      " Available Cash:= 900 Available Assets:= 10\n",
      " =>  BID  t=0:1 p=100 v=1 agentID=0\n",
      " Outgoing Link: =>> 0\n",
      " Incoming Links:\n",
      "\n",
      " Agent:= 1\n",
      " Cash:= 1000 Assets:= 10\n",
      " Available Cash:= 1000 Available Assets:= 1\n",
      " =>  ASK  t=1:4 p=102 v=3 agentID=1\n",
      " =>  ASK  t=1:3 p=103 v=4 agentID=1\n",
      " =>  ASK  t=0:2 p=104 v=2 agentID=1\n",
      " Outgoing Link: =>> 1\n",
      " Incoming Links:\n",
      "\n"
     ]
    }
   ],
   "source": [
    "M.submitOrder(o1);\n",
    "M.submitOrder(o2);\n",
    "M.submitOrder(o3);\n",
    "M.submitOrder(o4);\n",
    "M.submitOrder(o5);\n",
    "M.printFullMarketData();"
   ]
  },
  {
   "cell_type": "markdown",
   "id": "f1c950e5",
   "metadata": {},
   "source": [
    "Now none of these orders match. Add another order we will see it gets executed as a market order. The order is executed at the counterparty price, and completed orders are removed from the agents book as well as the market."
   ]
  },
  {
   "cell_type": "code",
   "execution_count": 10,
   "id": "ceb87bfd",
   "metadata": {},
   "outputs": [
    {
     "name": "stdout",
     "output_type": "stream",
     "text": [
      "###############\n",
      "# MARKET DATA\n",
      "###############\n",
      " Market Price 103\n",
      " Guru 0 |  Wealth 2033 | Links 0\n",
      "#######\n",
      "# MARKET BIDS\n",
      "######\n",
      " BID  t=0:1 p=100 v=1 agentID=0\n",
      "#######\n",
      "# MARKET ASKS\n",
      "######\n",
      " ASK  t=1:3 p=103 v=2 agentID=1\n",
      " ASK  t=0:2 p=104 v=2 agentID=1\n",
      "#######\n",
      "# MARKET AGENTS\n",
      "######\n",
      " Agent:= 0\n",
      " Cash:= 488 Assets:= 15\n",
      " Available Cash:= 388 Available Assets:= 15\n",
      " =>  BID  t=0:1 p=100 v=1 agentID=0\n",
      " Outgoing Link: =>> 0\n",
      " Incoming Links:\n",
      "\n",
      " Agent:= 1\n",
      " Cash:= 1512 Assets:= 5\n",
      " Available Cash:= 1512 Available Assets:= 1\n",
      " =>  ASK  t=1:3 p=103 v=2 agentID=1\n",
      " =>  ASK  t=0:2 p=104 v=2 agentID=1\n",
      " Outgoing Link: =>> 1\n",
      " Incoming Links:\n",
      "\n"
     ]
    }
   ],
   "source": [
    "M.submitOrder(o6);\n",
    "M.printFullMarketData();"
   ]
  },
  {
   "cell_type": "markdown",
   "id": "dc6ad9a4",
   "metadata": {},
   "source": [
    "In order for the agents to submit orders, we need to let them decide whether they should buy or sell the asset. To do this we use randomisation, where each agent has a random thought about the future price, captured by a normal distribution so that\n",
    "$$\n",
    "r^i = \\xi^i_r\n",
    "$$\n",
    "where\n",
    "$$\n",
    "\\xi^i_r \\sim N(0,\\sigma^i).\n",
    "$$\n",
    "Each agent $i$ will have their own random thought about the future of the price."
   ]
  },
  {
   "cell_type": "markdown",
   "id": "84e1d11f",
   "metadata": {},
   "source": [
    "The strategy of the agent updates according to a predicted price $p^*$, which can be calculated from the agents own expectation about the future combined with another agent they follow (denoted as the $j$th agent), so that\n",
    "$$\n",
    "p^* = p_t e^{ \\omega r^i + (1-\\omega) r^j }.\n",
    "$$\n",
    "Here the variable $\\omega$ is a market variable defining the rate at which agents follow other's expectation."
   ]
  },
  {
   "cell_type": "markdown",
   "id": "fb234819",
   "metadata": {},
   "source": [
    "To implement the strategy, we use this predicted price by saying that if $p^*>p_t$ we think the price is going up and we should buy (submitting a bid order), or $p^*<p_t$ in which case we should sell (submitting an ask order). We then use three random numbers to construct the bid (ask) price and volume, according to the agent's current status.\n",
    "\n",
    "For instance the bid price is calculated as \n",
    "$$\n",
    "p_\\text{bid} = p^*(1-\\phi_1)(1-\\phi_2) + p_t\\phi_2\n",
    "$$\n",
    "and ask price is\n",
    "$$\n",
    "p_\\text{ask} = p^*(1-\\phi_2) + p_t(1+\\phi_1)\\phi_2\n",
    "$$\n",
    "and corresponding volume is\n",
    "$$\n",
    "v_\\text{bid} = \\phi_3\\frac{\\hat{C}}{p_\\text{bid}}\n",
    "$$\n",
    "or\n",
    "$$\n",
    "v_\\text{bid} = \\phi_3\\hat{\\Delta}\n",
    "$$\n",
    "where\n",
    "$$\n",
    "\\xi_* \\sim U(0,1)\n",
    "$$"
   ]
  },
  {
   "cell_type": "markdown",
   "id": "5d171c97",
   "metadata": {},
   "source": [
    "Next we can see an example of the `strategy(int agent,int time,int period)` function. This function create a new random strategy for the `agent` at time `time` and period `period`. This function implements the formulae above."
   ]
  },
  {
   "cell_type": "code",
   "execution_count": 11,
   "id": "66a10c6d",
   "metadata": {},
   "outputs": [
    {
     "name": "stdout",
     "output_type": "stream",
     "text": [
      "strategy ::  ASK  t=4:1 p=123 v=11 agentID=0\n",
      "###############\n",
      "# MARKET DATA\n",
      "###############\n",
      " Market Price 103\n",
      " Guru 0 |  Wealth 2033 | Links 0\n",
      "#######\n",
      "# MARKET BIDS\n",
      "######\n",
      " BID  t=0:1 p=100 v=1 agentID=0\n",
      "#######\n",
      "# MARKET ASKS\n",
      "######\n",
      " ASK  t=1:3 p=103 v=2 agentID=1\n",
      " ASK  t=0:2 p=104 v=2 agentID=1\n",
      " ASK  t=4:1 p=123 v=11 agentID=0\n",
      "#######\n",
      "# MARKET AGENTS\n",
      "######\n",
      " Agent:= 0\n",
      " Cash:= 488 Assets:= 15\n",
      " Available Cash:= 388 Available Assets:= 4\n",
      " =>  BID  t=0:1 p=100 v=1 agentID=0\n",
      " =>  ASK  t=4:1 p=123 v=11 agentID=0\n",
      " Outgoing Link: =>> 0\n",
      " Incoming Links:\n",
      "\n",
      " Agent:= 1\n",
      " Cash:= 1512 Assets:= 5\n",
      " Available Cash:= 1512 Available Assets:= 1\n",
      " =>  ASK  t=1:3 p=103 v=2 agentID=1\n",
      " =>  ASK  t=0:2 p=104 v=2 agentID=1\n",
      " Outgoing Link: =>> 1\n",
      " Incoming Links:\n",
      "\n"
     ]
    }
   ],
   "source": [
    "{\n",
    "    Order o = M.strategy(0,4,1);\n",
    "    std::cout << \"strategy :: \" << o << std::endl;\n",
    "    M.submitOrder(o);\n",
    "}\n",
    "M.printFullMarketData();"
   ]
  },
  {
   "cell_type": "markdown",
   "id": "1c6884cc",
   "metadata": {},
   "source": [
    "Now once we need to describe how agents link to each other. Each agent will follow another agent, which we store as the `outgoingLink` for each agent. As the links update or change, we also need to keep track of `incomingLinks`, or the agents that have chosen to follow me. We use a `set` of `int`s to store the incomingLinks, which has a handy `insert` and `erase` function to create or delete links. It also means that you can only link once (as multiple entries not allowed)."
   ]
  },
  {
   "cell_type": "markdown",
   "id": "f5e686fd",
   "metadata": {},
   "source": [
    "New links are created according to some randomisation process, so for each agent we first select a random agent $j$, and noting the current \"guru\" $j_g$, we choose between linking to a random agent or to the guru according to some variable $\\lambda_t$. Let's see how the linking process works, set up a market with 5 agents."
   ]
  },
  {
   "cell_type": "code",
   "execution_count": 12,
   "id": "a2795c0c",
   "metadata": {},
   "outputs": [],
   "source": [
    "// setup a new market to demonstrate links with 5 agents\n",
    "Market Mlinks(5,10,1000);"
   ]
  },
  {
   "cell_type": "markdown",
   "id": "eb277c42",
   "metadata": {},
   "source": [
    "Get the first agent as agent `A`"
   ]
  },
  {
   "cell_type": "code",
   "execution_count": 13,
   "id": "0e096879",
   "metadata": {},
   "outputs": [],
   "source": [
    "Agent& A=Mlinks.marketAgents[0];"
   ]
  },
  {
   "cell_type": "markdown",
   "id": "8919be40",
   "metadata": {},
   "source": [
    "Find another random agent"
   ]
  },
  {
   "cell_type": "code",
   "execution_count": 14,
   "id": "50fdf806",
   "metadata": {},
   "outputs": [
    {
     "data": {
      "text/plain": [
       "3"
      ]
     },
     "execution_count": 14,
     "metadata": {},
     "output_type": "execute_result"
    }
   ],
   "source": [
    "// randomly select an agent\n",
    "std::uniform_int_distribution<> randomAgent(0,Mlinks.size()-1);\n",
    "int possibleOutgoingLink = randomAgent(Mlinks.rng);\n",
    "possibleOutgoingLink          "
   ]
  },
  {
   "cell_type": "markdown",
   "id": "a839d254",
   "metadata": {},
   "source": [
    "Now get the old agent we followed as `oldFollowing`, and remove me from their incoming links with the erase function"
   ]
  },
  {
   "cell_type": "code",
   "execution_count": 15,
   "id": "02338995",
   "metadata": {},
   "outputs": [],
   "source": [
    "Agent& oldFollowing = Mlinks.marketAgents[A.outgoingLink];\n",
    "oldFollowing.incomingLinks.erase(A.AgentIndex);"
   ]
  },
  {
   "cell_type": "markdown",
   "id": "e5b3c660",
   "metadata": {},
   "source": [
    "Next update my outgoing link to new outgoing link, and get this agent as `newFollowing` and add `A` to their incoming links:"
   ]
  },
  {
   "cell_type": "code",
   "execution_count": 16,
   "id": "cf18adf4",
   "metadata": {},
   "outputs": [],
   "source": [
    "A.outgoingLink = possibleOutgoingLink;\n",
    "Agent& newFollowing = Mlinks.marketAgents[possibleOutgoingLink];\n",
    "newFollowing.incomingLinks.insert(A.AgentIndex);"
   ]
  },
  {
   "cell_type": "markdown",
   "id": "7792e659",
   "metadata": {},
   "source": [
    "The market should now look like:"
   ]
  },
  {
   "cell_type": "code",
   "execution_count": 17,
   "id": "6cb9e89b",
   "metadata": {},
   "outputs": [
    {
     "name": "stdout",
     "output_type": "stream",
     "text": [
      "###############\n",
      "# MARKET DATA\n",
      "###############\n",
      " Market Price 0\n",
      " Guru 0 |  Wealth 1000 | Links 0\n",
      "#######\n",
      "# MARKET BIDS\n",
      "######\n",
      "#######\n",
      "# MARKET ASKS\n",
      "######\n",
      "#######\n",
      "# MARKET AGENTS\n",
      "######\n",
      " Agent:= 0\n",
      " Cash:= 1000 Assets:= 10\n",
      " Available Cash:= 1000 Available Assets:= 10\n",
      " Outgoing Link: =>> 3\n",
      " Incoming Links:\n",
      "\n",
      " Agent:= 1\n",
      " Cash:= 1000 Assets:= 10\n",
      " Available Cash:= 1000 Available Assets:= 10\n",
      " Outgoing Link: =>> 1\n",
      " Incoming Links:\n",
      "\n",
      " Agent:= 2\n",
      " Cash:= 1000 Assets:= 10\n",
      " Available Cash:= 1000 Available Assets:= 10\n",
      " Outgoing Link: =>> 2\n",
      " Incoming Links:\n",
      "\n",
      " Agent:= 3\n",
      " Cash:= 1000 Assets:= 10\n",
      " Available Cash:= 1000 Available Assets:= 10\n",
      " Outgoing Link: =>> 3\n",
      " Incoming Links: <<= 0 \n",
      "\n",
      " Agent:= 4\n",
      " Cash:= 1000 Assets:= 10\n",
      " Available Cash:= 1000 Available Assets:= 10\n",
      " Outgoing Link: =>> 4\n",
      " Incoming Links:\n",
      "\n"
     ]
    }
   ],
   "source": [
    "Mlinks.printFullMarketData();"
   ]
  },
  {
   "cell_type": "markdown",
   "id": "073a7876",
   "metadata": {},
   "source": [
    "We can see that agent 3 has one incoming link, from agent 0."
   ]
  },
  {
   "cell_type": "markdown",
   "id": "dba1741e",
   "metadata": {},
   "source": [
    "Now we can run a simulation with the command `runSimulation(int totalPeriods,int totalIntraPeriods,int tau,double sigma,double A,double sigmaLambda)`, with sigma indicating natural variations in return expectations. "
   ]
  },
  {
   "cell_type": "code",
   "execution_count": 18,
   "id": "678ca4bf",
   "metadata": {},
   "outputs": [
    {
     "name": "stdout",
     "output_type": "stream",
     "text": [
      "#period  , #marketPrice  , #guru  , #links, #lambda\n",
      "1 , 1000 , 1 , 2 , 0\n",
      "2 , 572 , 1 , 2 , 0\n",
      "3 , 712 , 4 , 2 , 0\n",
      "4 , 588 , 3 , 2 , 0\n",
      "5 , 626.5 , 1 , 2 , 0\n",
      "6 , 585 , 0 , 3 , 0\n",
      "7 , 538.5 , 0 , 2 , 0\n",
      "8 , 548.5 , 1 , 2 , 0\n",
      "9 , 595 , 1 , 2 , 0\n",
      "10 , 604.5 , 2 , 2 , 0\n",
      "11 , 529.5 , 0 , 2 , 0\n",
      "12 , 536.5 , 3 , 2 , 0\n",
      "13 , 536.5 , 3 , 3 , 0\n",
      "14 , 458.5 , 2 , 3 , 0\n",
      "15 , 256 , 2 , 2 , 0\n",
      "16 , 166.5 , 2 , 2 , 0\n",
      "17 , 191.5 , 3 , 2 , 0\n",
      "18 , 171.5 , 1 , 2 , 0\n",
      "19 , 190 , 0 , 2 , 0\n",
      "20 , 190 , 3 , 2 , 0\n",
      "\n"
     ]
    }
   ],
   "source": [
    "Mlinks.marketPrice=1000;\n",
    "Mlinks.omega=1;\n",
    "Mlinks.lambda=0.;\n",
    "Mlinks.runSimulation(20,4,1,0.1,1.,0.);"
   ]
  },
  {
   "cell_type": "code",
   "execution_count": 19,
   "id": "458609a5",
   "metadata": {},
   "outputs": [],
   "source": [
    "std::ofstream results(\"results.csv\");\n",
    "Market Mfull(100,100,100000);\n",
    "Mfull.marketPrice=1000;\n",
    "Mfull.omega=1;\n",
    "Mfull.lambda=0.5;"
   ]
  },
  {
   "cell_type": "code",
   "execution_count": 20,
   "id": "b5fe1c3b",
   "metadata": {},
   "outputs": [],
   "source": [
    "Mfull.runSimulation(200,300,2,0.05,1.,0.1,results);"
   ]
  },
  {
   "cell_type": "code",
   "execution_count": 21,
   "id": "02f7d8dc",
   "metadata": {},
   "outputs": [
    {
     "data": {
      "image/png": "[encoded data removed]"
     },
     "execution_count": 21,
     "metadata": {},
     "output_type": "execute_result"
    }
   ],
   "source": [
    "{\n",
    "    std::stringstream ss(\"set xrange [0:200]\\n\"\n",
    "                        \"set xlabel \\\"t_k\\\"\\n\"\n",
    "                        \"set ylabel \\\"P_t\\\"\\n\"\n",
    "                         \"set datafile separator ','\\n\"\n",
    "                        \"p\\\"results.csv\\\" w l\\n\");\n",
    "    MATH60082::figure = MATH60082::G.plotCommand(&ss);\n",
    "}\n",
    "MATH60082::figure"
   ]
  },
  {
   "cell_type": "markdown",
   "id": "f7219367",
   "metadata": {},
   "source": [
    "To get a full cpp code implementation in a single file, [click here](https://raw.githubusercontent.com/pjohno/MSc-Math-Finance-Projects/master/main/project-financialMarkets.cpp)."
   ]
  },
  {
   "cell_type": "code",
   "execution_count": 22,
   "id": "7ee61145",
   "metadata": {},
   "outputs": [
    {
     "data": {
      "image/png": "[encoded data removed]"
     },
     "execution_count": 22,
     "metadata": {},
     "output_type": "execute_result"
    }
   ],
   "source": [
    "{\n",
    "    std::stringstream ss(\"set xrange [0:200]\\n\"\n",
    "                         \"set yrange [-1:100]\\n\"\n",
    "                        \"set xlabel \\\"t_k\\\"\\n\"\n",
    "                        \"set ylabel \\\"Guru\\\"\\n\"\n",
    "                         \"set datafile separator ','\\n\"\n",
    "                        \"p\\\"results.csv\\\" u 1:3 ti \\\"Guru\\\" w l,\\\"results.csv\\\" u 1:4 ti \\\"Links\\\" w l,\\\"results.csv\\\" u 1:($5*100) ti \\\"Lambda\\\" w l\\n\");\n",
    "    MATH60082::figure = MATH60082::G.plotCommand(&ss);\n",
    "}\n",
    "MATH60082::figure"
   ]
  }
 ],
 "metadata": {
  "kernelspec": {
   "display_name": "C++17",
   "language": "C++17",
   "name": "xcpp17"
  },
  "language_info": {
   "codemirror_mode": "text/x-c++src",
   "file_extension": ".cpp",
   "mimetype": "text/x-c++src",
   "name": "c++",
   "version": "17"
  }
 },
 "nbformat": 4,
 "nbformat_minor": 5
}
