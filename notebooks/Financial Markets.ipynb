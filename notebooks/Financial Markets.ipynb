{
 "cells": [
  {
   "cell_type": "markdown",
   "id": "b4438d69",
   "metadata": {},
   "source": [
    "# Financial Market Simulations With Imitation\n",
    "\n",
    "This is based on "
   ]
  },
  {
   "cell_type": "code",
   "execution_count": 1,
   "id": "2ee41b09",
   "metadata": {},
   "outputs": [],
   "source": [
    "#include \"msc_project_financialMarkets.hpp\""
   ]
  },
  {
   "cell_type": "code",
   "execution_count": 2,
   "id": "d8f3ce45",
   "metadata": {},
   "outputs": [],
   "source": [
    "using namespace MSC_PROJECTS;"
   ]
  },
  {
   "cell_type": "markdown",
   "id": "9df4c513",
   "metadata": {},
   "source": [
    "First we have created an \"Order\" type in the code to store information about each order on the market. The order has the following variables:\n",
    "\n",
    "|Member  | Description   |\n",
    "|--- |--- |\n",
    "|oType   | type of order, i.e. bid or ask |\n",
    "|day     | time period order submitted |\n",
    "|period  | trading period order submitted |\n",
    "|price   | price of bid or ask |\n",
    "|vol     | volume submitted |\n",
    "|agentID | the unique ID of the agent |\n"
   ]
  },
  {
   "cell_type": "code",
   "execution_count": 3,
   "id": "0bd4e8bf",
   "metadata": {},
   "outputs": [
    {
     "name": "stdout",
     "output_type": "stream",
     "text": [
      "Create a new bid order\n",
      " BID  t=0:1 p=100 v=1 agentID=0\n",
      "\n",
      "Create some new ask orders\n",
      " ASK  t=0:2 p=104 v=2 agentID=1\n",
      " ASK  t=1:4 p=102 v=3 agentID=1\n",
      " ASK  t=1:3 p=103 v=4 agentID=1\n",
      " ASK  t=2:3 p=100 v=6 agentID=1\n",
      " BID  t=3:1 p=105 v=5 agentID=0\n"
     ]
    },
    {
     "data": {
      "text/plain": [
       "@0x7f42655a5b60"
      ]
     },
     "execution_count": 3,
     "metadata": {},
     "output_type": "execute_result"
    }
   ],
   "source": [
    "std::cout << \"Create a new bid order\\n\";\n",
    "// create an order\n",
    "Order o1;\n",
    "// give it some values\n",
    "o1.oType = bid;\n",
    "o1.day = 0;\n",
    "o1.period = 1;\n",
    "o1.price = 100;\n",
    "o1.vol = 1;\n",
    "o1.agentID = 0;\n",
    "    \n",
    "std::cout << o1 << std::endl;\n",
    "    \n",
    "std::cout << \"\\nCreate some new ask orders\\n\";\n",
    "// create another order\n",
    "Order o2 = { ask , 0 , 2, 104 , 2, 1};\n",
    "Order o3 = { ask , 1 , 4, 102 , 3, 1};\n",
    "Order o4 = { ask , 1 , 3, 103 , 4, 1};\n",
    "Order o5 = { ask , 2 , 3, 100 , 6, 1};\n",
    "Order o6 = { bid , 3 , 1, 105 , 5, 0};\n",
    "\n",
    "std::cout << o2 << std::endl;\n",
    "std::cout << o3 << std::endl;\n",
    "std::cout << o4 << std::endl;\n",
    "std::cout << o5 << std::endl;\n",
    "std::cout << o6 << std::endl;\n",
    "    "
   ]
  },
  {
   "cell_type": "markdown",
   "id": "7dd97b6d",
   "metadata": {},
   "source": [
    "We can now create a set of orders, because of the way the data has been made, this will have the following properties:\n",
    " - orders will be ordered by price first, then day then period\n",
    " - orders must be unique, so two orders can't be the same"
   ]
  },
  {
   "cell_type": "code",
   "execution_count": 4,
   "id": "89d992e0",
   "metadata": {},
   "outputs": [
    {
     "name": "stdout",
     "output_type": "stream",
     "text": [
      "\n",
      "\n",
      "Output the ask order book in priority order\n",
      "0 ::  ASK  t=2:3 p=100 v=6 agentID=1\n",
      "1 ::  ASK  t=1:4 p=102 v=3 agentID=1\n",
      "2 ::  ASK  t=1:3 p=103 v=4 agentID=1\n",
      "3 ::  ASK  t=0:2 p=104 v=2 agentID=1\n"
     ]
    }
   ],
   "source": [
    "// create an order book for asks\n",
    "// use a set here since there should only be a single unique order\n",
    "std::set<Order> askBook;\n",
    "// now add some ORDERS\n",
    "askBook.insert(o2);\n",
    "askBook.insert(o3);\n",
    "askBook.insert(o4);\n",
    "askBook.insert(o5);\n",
    "\n",
    "// Note here\n",
    "std::cout << \"\\n\\nOutput the ask order book in priority order\\n\";\n",
    "{\n",
    "    int priority=0;\n",
    "    for(auto o : askBook)\n",
    "    {\n",
    "        std::cout << priority<< \" :: \" << o << std::endl;\n",
    "        priority++;\n",
    "    }\n",
    "}"
   ]
  },
  {
   "cell_type": "markdown",
   "id": "13d804c7",
   "metadata": {},
   "source": [
    "Now consider an agent $A$ in the market. The agent will need to keep track of money, assets and any offers on the market. If we want to build imitation network we also need to track outgoing and incoming links.\n",
    "\n",
    "|Member | Description |\n",
    "|--- |--- |\n",
    "|AgentIndex | unique ID |\n",
    "|delta | amount of stocks |\n",
    "|availableDelta  | amount of stocks available |\n",
    "|cash | amount of cash held in the account |\n",
    "|availableCash | amount of cash available |\n",
    "|fitness |  fitness relative to all other agents |\n",
    "|r | agents estimated return |\n",
    "|outgoingLink | the identity of the agent that we are following |\n",
    "|incomingLinks | the identities of the agents that are following us |\n",
    "|marketOrders | current list of market orders submitted by the agent |"
   ]
  },
  {
   "cell_type": "code",
   "execution_count": 5,
   "id": "65f28a52",
   "metadata": {},
   "outputs": [
    {
     "name": "stdout",
     "output_type": "stream",
     "text": [
      " Agent:= 0\n",
      " Cash:= 1000 Assets:= 10\n",
      " Available Cash:= 1000 Available Assets:= 10\n"
     ]
    }
   ],
   "source": [
    "Agent A;\n",
    "A.AgentIndex=0;\n",
    "A.delta = 10;\n",
    "A.availableDelta = 10;\n",
    "A.cash = 1000;\n",
    "A.availableCash = 1000;\n",
    "std::cout << A;"
   ]
  },
  {
   "cell_type": "markdown",
   "id": "6abb817a",
   "metadata": {},
   "source": [
    "Try adding in the offer \"o1\", we need to adjust available cash/delta according to whether it is a bid/ask."
   ]
  },
  {
   "cell_type": "code",
   "execution_count": 6,
   "id": "9bb46ebc",
   "metadata": {},
   "outputs": [
    {
     "name": "stdout",
     "output_type": "stream",
     "text": [
      " Agent:= 0\n",
      " Cash:= 1000 Assets:= 10\n",
      " Available Cash:= 900 Available Assets:= 10\n",
      " =>  BID  t=0:1 p=100 v=1 agentID=0\n"
     ]
    }
   ],
   "source": [
    "if(o1.oType== bid)\n",
    "    A.availableCash=A.availableCash - o1.vol*o1.price;\n",
    "else\n",
    "    A.availableDelta= A.availableDelta - o1.vol;\n",
    "// put it in the market orders\n",
    "A.marketOrders.insert(o1);\n",
    "std::cout << A;"
   ]
  },
  {
   "cell_type": "markdown",
   "id": "0dd83960",
   "metadata": {},
   "source": [
    "Next we move onto making a \"Market\" containing multiple agents, that can submit bids etc. \n",
    "\n",
    "|Member | Description |\n",
    "|--- |--- |\n",
    "|MarketPrice | store the current market price |\n",
    "|omega | omega is used to determine the rate at which new links can be made |\n",
    "|rng | random number generator|\n",
    "|   marketAgents  | store a vector of agents |\n",
    "|limitOrderBookAsks |  store the limit order book for ask offers |\n",
    "|limitOrderBookBids | store the limit order book for bid offers |"
   ]
  },
  {
   "cell_type": "code",
   "execution_count": 7,
   "id": "78ceaef9",
   "metadata": {},
   "outputs": [],
   "source": [
    "// setup a new market with 2 agents\n",
    "Market M(2,10,1000);"
   ]
  },
  {
   "cell_type": "markdown",
   "id": "5ea26118",
   "metadata": {},
   "source": [
    "The function `printFullMarketData` prints out all information about the market."
   ]
  },
  {
   "cell_type": "code",
   "execution_count": 8,
   "id": "18d647b0",
   "metadata": {},
   "outputs": [
    {
     "name": "stdout",
     "output_type": "stream",
     "text": [
      "###############\n",
      "# MARKET DATA\n",
      "###############\n",
      " Market Price 0\n",
      "#######\n",
      "# MARKET BIDS\n",
      "######\n",
      "#######\n",
      "# MARKET ASKS\n",
      "######\n",
      "#######\n",
      "# MARKET AGENTS\n",
      "######\n",
      " Agent:= 0\n",
      " Cash:= 1000 Assets:= 10\n",
      " Available Cash:= 1000 Available Assets:= 10\n",
      "\n",
      " Agent:= 1\n",
      " Cash:= 1000 Assets:= 10\n",
      " Available Cash:= 1000 Available Assets:= 10\n",
      "\n"
     ]
    }
   ],
   "source": [
    "M.printFullMarketData();"
   ]
  },
  {
   "cell_type": "markdown",
   "id": "abf249a7",
   "metadata": {},
   "source": [
    "The function `submitOrder(const Order &o)` lets you submit an order"
   ]
  },
  {
   "cell_type": "code",
   "execution_count": 9,
   "id": "a85d5a4c",
   "metadata": {},
   "outputs": [
    {
     "name": "stdout",
     "output_type": "stream",
     "text": [
      "###############\n",
      "# MARKET DATA\n",
      "###############\n",
      " Market Price 0\n",
      "#######\n",
      "# MARKET BIDS\n",
      "######\n",
      " BID  t=0:1 p=100 v=1 agentID=0\n",
      "#######\n",
      "# MARKET ASKS\n",
      "######\n",
      " ASK  t=1:4 p=102 v=3 agentID=1\n",
      " ASK  t=1:3 p=103 v=4 agentID=1\n",
      " ASK  t=0:2 p=104 v=2 agentID=1\n",
      "#######\n",
      "# MARKET AGENTS\n",
      "######\n",
      " Agent:= 0\n",
      " Cash:= 1000 Assets:= 10\n",
      " Available Cash:= 900 Available Assets:= 10\n",
      " =>  BID  t=0:1 p=100 v=1 agentID=0\n",
      "\n",
      " Agent:= 1\n",
      " Cash:= 1000 Assets:= 10\n",
      " Available Cash:= 1000 Available Assets:= 1\n",
      " =>  ASK  t=1:4 p=102 v=3 agentID=1\n",
      " =>  ASK  t=1:3 p=103 v=4 agentID=1\n",
      " =>  ASK  t=0:2 p=104 v=2 agentID=1\n",
      "\n"
     ]
    }
   ],
   "source": [
    "M.submitOrder(o1);\n",
    "M.submitOrder(o2);\n",
    "M.submitOrder(o3);\n",
    "M.submitOrder(o4);\n",
    "M.submitOrder(o5);\n",
    "M.printFullMarketData();"
   ]
  },
  {
   "cell_type": "markdown",
   "id": "f1c950e5",
   "metadata": {},
   "source": [
    "Now none of these orders match. Add another order we will see it gets executed as a market order. The order is executed at the counterparty price, and completed orders are removed from the agents book as well as the market."
   ]
  },
  {
   "cell_type": "code",
   "execution_count": 10,
   "id": "ceb87bfd",
   "metadata": {},
   "outputs": [
    {
     "name": "stdout",
     "output_type": "stream",
     "text": [
      "###############\n",
      "# MARKET DATA\n",
      "###############\n",
      " Market Price 103\n",
      "#######\n",
      "# MARKET BIDS\n",
      "######\n",
      " BID  t=0:1 p=100 v=1 agentID=0\n",
      "#######\n",
      "# MARKET ASKS\n",
      "######\n",
      " ASK  t=1:3 p=103 v=2 agentID=1\n",
      " ASK  t=0:2 p=104 v=2 agentID=1\n",
      "#######\n",
      "# MARKET AGENTS\n",
      "######\n",
      " Agent:= 0\n",
      " Cash:= 488 Assets:= 15\n",
      " Available Cash:= 388 Available Assets:= 15\n",
      " =>  BID  t=0:1 p=100 v=1 agentID=0\n",
      "\n",
      " Agent:= 1\n",
      " Cash:= 1512 Assets:= 5\n",
      " Available Cash:= 1512 Available Assets:= 1\n",
      " =>  ASK  t=1:3 p=103 v=2 agentID=1\n",
      " =>  ASK  t=0:2 p=104 v=2 agentID=1\n",
      "\n"
     ]
    }
   ],
   "source": [
    "M.submitOrder(o6);\n",
    "M.printFullMarketData();"
   ]
  },
  {
   "cell_type": "markdown",
   "id": "5d171c97",
   "metadata": {},
   "source": [
    "Next we can see an example of the `strategy(int agent,int time,int period)` function. This function create a new random strategy for the `agent` at time `time` and period `period`."
   ]
  },
  {
   "cell_type": "code",
   "execution_count": 11,
   "id": "66a10c6d",
   "metadata": {},
   "outputs": [
    {
     "name": "stdout",
     "output_type": "stream",
     "text": [
      "strategy ::  ASK  t=4:1 p=123 v=11 agentID=0\n",
      "###############\n",
      "# MARKET DATA\n",
      "###############\n",
      " Market Price 103\n",
      "#######\n",
      "# MARKET BIDS\n",
      "######\n",
      " BID  t=0:1 p=100 v=1 agentID=0\n",
      "#######\n",
      "# MARKET ASKS\n",
      "######\n",
      " ASK  t=1:3 p=103 v=2 agentID=1\n",
      " ASK  t=0:2 p=104 v=2 agentID=1\n",
      " ASK  t=4:1 p=123 v=11 agentID=0\n",
      "#######\n",
      "# MARKET AGENTS\n",
      "######\n",
      " Agent:= 0\n",
      " Cash:= 488 Assets:= 15\n",
      " Available Cash:= 388 Available Assets:= 4\n",
      " =>  BID  t=0:1 p=100 v=1 agentID=0\n",
      " =>  ASK  t=4:1 p=123 v=11 agentID=0\n",
      "\n",
      " Agent:= 1\n",
      " Cash:= 1512 Assets:= 5\n",
      " Available Cash:= 1512 Available Assets:= 1\n",
      " =>  ASK  t=1:3 p=103 v=2 agentID=1\n",
      " =>  ASK  t=0:2 p=104 v=2 agentID=1\n",
      "\n"
     ]
    }
   ],
   "source": [
    "{\n",
    "    Order o = M.strategy(0,4,1);\n",
    "    std::cout << \"strategy :: \" << o << std::endl;\n",
    "    M.submitOrder(o);\n",
    "}\n",
    "M.printFullMarketData();"
   ]
  },
  {
   "cell_type": "markdown",
   "id": "dba1741e",
   "metadata": {},
   "source": [
    "Now we can run a simulation with the command `runSimulation(int totalPeriods, int totalIntraPeriods,double sigma)`, with sigma indicating natural variations in return expectations."
   ]
  },
  {
   "cell_type": "code",
   "execution_count": 12,
   "id": "678ca4bf",
   "metadata": {},
   "outputs": [
    {
     "name": "stdout",
     "output_type": "stream",
     "text": [
      "#period  , #marketPrice\n",
      "1 , 101.5\n",
      "2 , 101.5\n",
      "3 , 101.5\n",
      "4 , 98.5\n",
      "5 , 96\n",
      "6 , 98\n",
      "7 , 103.5\n",
      "8 , 103.5\n",
      "9 , 103.5\n",
      "10 , 115\n",
      "11 , 115\n",
      "12 , 138\n",
      "13 , 107.5\n",
      "14 , 116\n",
      "15 , 115.5\n",
      "16 , 118.5\n",
      "17 , 114.5\n",
      "18 , 114.5\n",
      "19 , 112\n",
      "20 , 93\n",
      "\n"
     ]
    }
   ],
   "source": [
    "M.runSimulation(20,4,0.1);"
   ]
  },
  {
   "cell_type": "code",
   "execution_count": 13,
   "id": "dda4f906",
   "metadata": {},
   "outputs": [
    {
     "name": "stdout",
     "output_type": "stream",
     "text": [
      "###############\n",
      "# MARKET DATA\n",
      "###############\n",
      " Market Price 93\n",
      "#######\n",
      "# MARKET BIDS\n",
      "######\n",
      " BID  t=18:3 p=68 v=1 agentID=1\n",
      "#######\n",
      "# MARKET ASKS\n",
      "######\n",
      " ASK  t=20:4 p=93 v=1 agentID=1\n",
      " ASK  t=20:2 p=107 v=4 agentID=0\n",
      " ASK  t=19:1 p=115 v=5 agentID=1\n",
      " ASK  t=19:3 p=118 v=2 agentID=1\n",
      " ASK  t=19:2 p=122 v=1 agentID=1\n",
      "#######\n",
      "# MARKET AGENTS\n",
      "######\n",
      " Agent:= 0\n",
      " Cash:= 1254 Assets:= 8\n",
      " Available Cash:= 1254 Available Assets:= 4\n",
      " =>  ASK  t=20:2 p=107 v=4 agentID=0\n",
      "\n",
      " Agent:= 1\n",
      " Cash:= 746 Assets:= 12\n",
      " Available Cash:= 678 Available Assets:= 3\n",
      " =>  BID  t=18:3 p=68 v=1 agentID=1\n",
      " =>  ASK  t=20:4 p=93 v=1 agentID=1\n",
      " =>  ASK  t=19:1 p=115 v=5 agentID=1\n",
      " =>  ASK  t=19:3 p=118 v=2 agentID=1\n",
      " =>  ASK  t=19:2 p=122 v=1 agentID=1\n",
      "\n"
     ]
    }
   ],
   "source": [
    "M.printFullMarketData();"
   ]
  },
  {
   "cell_type": "code",
   "execution_count": 14,
   "id": "458609a5",
   "metadata": {},
   "outputs": [],
   "source": [
    "std::ofstream results(\"results.csv\");\n",
    "Market Mfull(100,100,100000);\n",
    "Mfull.marketPrice=1000;\n",
    "Mfull.runSimulation(200,200,0.05,results);"
   ]
  },
  {
   "cell_type": "code",
   "execution_count": 16,
   "id": "02f7d8dc",
   "metadata": {},
   "outputs": [
    {
     "data": {
      "image/png": "Cg=="
     },
     "execution_count": 16,
     "metadata": {},
     "output_type": "execute_result"
    }
   ],
   "source": [
    "{\n",
    "    std::stringstream ss(\"set xrange [0:200]\\n\"\n",
    "                        \"set xlabel \\\"t_k\\\"\\n\"\n",
    "                        \"set ylabel \\\"P_t\\\"\\n\"\n",
    "                         \"set datafile separator ','\\n\"\n",
    "                        \"p\\\"results.csv\\\" w l\\n\");\n",
    "    MATH60082::figure = MATH60082::G.plotCommand(&ss);\n",
    "}\n",
    "MATH60082::figure"
   ]
  },
  {
   "cell_type": "code",
   "execution_count": null,
   "id": "2357918f",
   "metadata": {},
   "outputs": [],
   "source": []
  }
 ],
 "metadata": {
  "kernelspec": {
   "display_name": "C++17",
   "language": "C++17",
   "name": "xcpp17"
  },
  "language_info": {
   "codemirror_mode": "text/x-c++src",
   "file_extension": ".cpp",
   "mimetype": "text/x-c++src",
   "name": "c++",
   "version": "17"
  }
 },
 "nbformat": 4,
 "nbformat_minor": 5
}
