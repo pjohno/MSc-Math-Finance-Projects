{
 "cells": [
  {
   "cell_type": "markdown",
   "id": "c96c36b3",
   "metadata": {},
   "source": [
    "# Fokker Planck Equation\n",
    "\n",
    "Consider the followig Ohrnstein Ulenbeck process\n",
    "$$\n",
    "dX_t = \\kappa( \\theta - X_t) dt + \\sigma dW_t .\n",
    "$$\n",
    "Let $u(x,t;y,\\tau)$, for $\\tau \\leq t$, be the transition probability density function of $X_t$, for the diffusion from $(y,\\tau)$ to $(x,t)$. Then for any suitable $B\\subset \\mathbb{R}$, the transition pdf is such that\n",
    "$$\n",
    "\\mathbb{P}_{y,\\tau}(X_t \\in B) = \\int_B u(x,t;y,\\tau) dx .\n",
    "$$\n",
    "Given the OU process, we can say that $u(x,t)$ satisfies\n",
    "$$\n",
    "\\frac{\\partial u}{\\partial t} + \\kappa(\\theta - x)\\frac{\\partial u}{\\partial x} - \\frac12 \\sigma^2 \\frac{\\partial^2 u}{\\partial^2 x} - \\kappa u =0 .\n",
    "$$\n",
    "The initial condition for the process at time $\\tau$ is\n",
    "$$\n",
    "u(x,\\tau) = \\delta(x-y)\n",
    "$$\n",
    "where $\\delta$ is the delta dirac function.\n",
    "We have a boundary condition on the total probability, so that\n",
    "$$\n",
    "\\int_\\mathbb{D} u(x,t) dx=1 \\quad\\text{ for } \\quad t\\geq \\tau \n",
    "$$\n",
    "on the domain $\\mathbb{D}$.\n"
   ]
  },
  {
   "cell_type": "code",
   "execution_count": 1,
   "id": "71aa04fc",
   "metadata": {},
   "outputs": [],
   "source": [
    "#include \"msc_project_fokkerPlanck.hpp\""
   ]
  },
  {
   "cell_type": "markdown",
   "id": "09d88963",
   "metadata": {},
   "source": [
    "Declare some parameters on the problem"
   ]
  },
  {
   "cell_type": "code",
   "execution_count": 2,
   "id": "f8286656",
   "metadata": {},
   "outputs": [],
   "source": [
    "double kappa=1,theta=0.2,T=10,sigma=0.5;\n",
    "double x0=0.,xT=1.;"
   ]
  },
  {
   "cell_type": "markdown",
   "id": "81417a93",
   "metadata": {},
   "source": [
    "The analytic solution is given by\n",
    "$$ X_T \\sim N\\left( X_0 e^{-\\kappa T} + \\theta(1-e^{-\\kappa T}) , \\sigma^2 \\frac{1-e^{-2\\kappa T}}{2\\kappa} \\right) $$"
   ]
  },
  {
   "cell_type": "code",
   "execution_count": 3,
   "id": "bd879ae1",
   "metadata": {},
   "outputs": [
    {
     "name": "stdout",
     "output_type": "stream",
     "text": [
      " Solution pdf(x=1,T=10) = 0.087223989\n"
     ]
    }
   ],
   "source": [
    "boost::math::normal OU(x0*exp(-kappa*T) + theta*(1-exp(-kappa*T)),sigma*sqrt((1-exp(-2.*kappa*T))/(2.*kappa)));\n",
    "    std::cout.precision(8);\n",
    "    std::cout << \" Solution pdf(x=\" << xT << \",T=\"<<T<<\") = \" << pdf(OU,xT) << std::endl;"
   ]
  },
  {
   "cell_type": "markdown",
   "id": "6486d964",
   "metadata": {},
   "source": [
    "This gives us an analytic solution to compare against. Here we plot out the solution."
   ]
  },
  {
   "cell_type": "code",
   "execution_count": 4,
   "id": "b9b6d83b",
   "metadata": {},
   "outputs": [
    {
     "data": {
      "image/png": "[encoded data removed]"
     },
     "execution_count": 4,
     "metadata": {},
     "output_type": "execute_result"
    }
   ],
   "source": [
    "{\n",
    "    double sd_est = sigma*sqrt((1-exp(-2.*kappa*T))/(2.*kappa));\n",
    "    double xMin=theta-5*sd_est;\n",
    "    double xMax=theta+5*sd_est;\n",
    "    std::ofstream output(\"test.dat\");\n",
    "    int n=400;\n",
    "    double dx=(xMax - xMin)/n;\n",
    "    for(int j=0;j<=n;j++)\n",
    "    {\n",
    "        double x = xMin + j*dx;\n",
    "        output << x << \" \" << pdf(OU,x) << std::endl;\n",
    "    }\n",
    "    output.close();\n",
    "}\n",
    "\n",
    "{\n",
    "    std::stringstream ss(\"set xlabel \\\"x\\\"\\n\"\n",
    "                    \"set ylabel \\\"p(x,T;x_0)\\\"\\n\"\n",
    "                    \"p'test.dat' u 1:2 w l\\n\");\n",
    "    MATH60082::figure = MATH60082::G.plotCommand(&ss);\n",
    "}\n",
    "MATH60082::figure"
   ]
  },
  {
   "cell_type": "markdown",
   "id": "1e918f1c",
   "metadata": {},
   "source": [
    "Next solve with finite difference."
   ]
  },
  {
   "cell_type": "code",
   "execution_count": 5,
   "id": "36baecff",
   "metadata": {},
   "outputs": [
    {
     "name": "stdout",
     "output_type": "stream",
     "text": [
      "8 -967.82071 -1290.7609  :: (1.2773e-05)\n",
      "16 -0.049316379 322.54115  :: (2.0512e-05)\n",
      "32 0.050377709 0.083609071  :: (6.6978e-05)\n",
      "64 0.078491037 0.087862146  :: (0.000224522)\n",
      "128 0.085084717 0.087282611  :: (0.000846547)\n",
      "256 0.086690961 0.087226376  :: (0.003338208)\n",
      "512 0.087090843 0.087224136  :: (0.01314937)\n",
      "1024 0.087190751 0.087224054  :: (0.051646478)\n",
      "2048 0.087215676 0.087223984  :: (0.20462239)\n",
      "4096 0.087221906 0.087223983  :: (0.82144682)\n"
     ]
    }
   ],
   "source": [
    "double valueOld=1.;\n",
    "for(int k=1;k<=10;k++)\n",
    "{\n",
    "    int n=4*pow(2,k);\n",
    "    auto start = std::chrono::steady_clock::now(); \n",
    "\n",
    "    std::vector<double> X(n+1);\n",
    "    std::vector<double> U(n+1);\n",
    "\n",
    "    double sd_est = sigma*sqrt((1-exp(-2.*kappa*T))/(2.*kappa));\n",
    "    double xMin=theta-10*sd_est;\n",
    "    double xMax=theta+10*sd_est;\n",
    "\n",
    "    int jMax=n;\n",
    "    int iMax=n;\n",
    "    double dx=(xMax-xMin)/jMax;\n",
    "    double dt=T/iMax;\n",
    "    int jStar0 = (x0-xMin)/dx;\n",
    "    for(int j=0;j<=n;j++)\n",
    "    {\n",
    "        X[j] = xMin+j*dx;\n",
    "        if(j==jStar0)\n",
    "            U[j] = 1./dx;\n",
    "        else\n",
    "            U[j] = 0.;\n",
    "    }\n",
    "\n",
    "    for(int i=iMax-1;i>=0;i--)\n",
    "    {\n",
    "        // declare vectors for matrix equations\n",
    "        std::vector<double> a(jMax+1),b(jMax+1),c(jMax+1),d(jMax+1);\n",
    "        // set up matrix equations a[j]=\n",
    "        a[0]=0.;b[0]=1.;c[0]=0.;d[0] = 0.;\n",
    "        for(int j=1;j<=jMax-1;j++)\n",
    "        {\n",
    "            a[j]=0.25*(sigma*sigma/dx/dx + kappa*(theta-X[j])/dx);\n",
    "            b[j]=-0.5*sigma*sigma/dx/dx + 0.5*kappa - 1./dt;\n",
    "            c[j]=0.25*(sigma*sigma/dx/dx - kappa*(theta-X[j])/dx);\n",
    "            d[j]=-a[j]*U[j-1]-(b[j]+2./dt)*U[j]-c[j]*U[j+1];\n",
    "        }\n",
    "        a[jMax]= 0.;b[jMax]=1.;c[jMax]=0.;d[jMax] = 0.;\n",
    "        MATH60082::thomasSolve(a,b,c,d);\n",
    "        // set old=new \n",
    "        U=d;\n",
    "    }// finish looping through time steps \n",
    "\n",
    "    double value=MATH60082::lagrangeInterpolation(U,X,xT);\n",
    "    double valueExtrap=(4.*value - valueOld)/3.;\n",
    "\n",
    "    auto finish = std::chrono::steady_clock::now(); \n",
    "    auto elapsed = std::chrono::duration_cast<std::chrono::duration<double> >(finish - start);\n",
    "\n",
    "    std::cout << n << \" \" << value << \" \" ;\n",
    "    std::cout << valueExtrap << \" \";\n",
    "    std::cout << \" :: (\"<< elapsed.count()<< \")\"<<std::endl;\n",
    "    valueOld=value;\n",
    "\n",
    "}"
   ]
  },
  {
   "cell_type": "code",
   "execution_count": 6,
   "id": "b18bb144",
   "metadata": {},
   "outputs": [],
   "source": [
    "{\n",
    "    int n=2000;\n",
    "    double sd_est = sigma*sqrt((1-exp(-2.*kappa*T))/(2.*kappa));\n",
    "    double xMin=theta-10*sd_est;\n",
    "    double xMax=theta+10*sd_est;\n",
    "\n",
    "    int jMax=n;\n",
    "    int iMax=n;\n",
    "    \n",
    "    \n",
    "    std::vector<double> X(jMax+1);\n",
    "    std::vector<double> U(jMax+1);\n",
    "\n",
    "    double dx=(xMax-xMin)/jMax;\n",
    "    double dt=T/iMax;\n",
    "    int jStar0 = (x0-xMin)/dx;\n",
    "    for(int j=0;j<=n;j++)\n",
    "    {\n",
    "        X[j] = xMin+j*dx;\n",
    "        if(j==jStar0)\n",
    "            U[j] = 1./dx;\n",
    "        else\n",
    "            U[j] = 0.;\n",
    "    }\n",
    "\n",
    "    for(int i=iMax-1;i>=0;i--)\n",
    "    {\n",
    "        // declare vectors for matrix equations\n",
    "        std::vector<double> a(jMax+1),b(jMax+1),c(jMax+1),d(jMax+1);\n",
    "        // set up matrix equations a[j]=\n",
    "        a[0]=0.;b[0]=1.;c[0]=0.;d[0] = 0.;\n",
    "        for(int j=1;j<=jMax-1;j++)\n",
    "        {\n",
    "            a[j]=0.25*(sigma*sigma/dx/dx + kappa*(theta-X[j])/dx);\n",
    "            b[j]=-0.5*sigma*sigma/dx/dx + 0.5*kappa - 1./dt;\n",
    "            c[j]=0.25*(sigma*sigma/dx/dx - kappa*(theta-X[j])/dx);\n",
    "            d[j]=-a[j]*U[j-1]-(b[j]+2./dt)*U[j]-c[j]*U[j+1];\n",
    "        }\n",
    "        a[jMax]= 0.;b[jMax]=1.;c[jMax]=0.;d[jMax] = 0.;\n",
    "        MATH60082::thomasSolve(a,b,c,d);\n",
    "        // set old=new \n",
    "        U=d;\n",
    "    }// finish looping through time steps \n",
    "\n",
    "    std::ofstream output(\"test.dat\");\n",
    "    output.precision(12);\n",
    "    for(int j=0;j<=jMax;j++)\n",
    "    {\n",
    "        double x = xMin + j*dx;\n",
    "        output << x << \" \" << U[j] << \" \" << pdf(OU,X[j]) << std::endl;\n",
    "    }\n",
    "    output.close();\n",
    "}\n"
   ]
  },
  {
   "cell_type": "code",
   "execution_count": 7,
   "id": "5ced27a7",
   "metadata": {},
   "outputs": [
    {
     "data": {
      "image/png": "[encoded data removed]"
     },
     "execution_count": 7,
     "metadata": {},
     "output_type": "execute_result"
    }
   ],
   "source": [
    "\n",
    "{\n",
    "    std::stringstream ss(\"\"\n",
    "                    \"set xlabel \\\"x\\\"\\n\"\n",
    "                    \"set ylabel \\\"p(x,T;x_0)\\\"\\n\"\n",
    "                    \"p'test.dat' u 1:($3-$2) w l\\n\");\n",
    "    MATH60082::figure = MATH60082::G.plotCommand(&ss);\n",
    "}\n",
    "MATH60082::figure"
   ]
  },
  {
   "cell_type": "code",
   "execution_count": null,
   "id": "75aeb29e",
   "metadata": {},
   "outputs": [],
   "source": []
  }
 ],
 "metadata": {
  "kernelspec": {
   "display_name": "C++17",
   "language": "C++17",
   "name": "xcpp17"
  },
  "language_info": {
   "codemirror_mode": "text/x-c++src",
   "file_extension": ".cpp",
   "mimetype": "text/x-c++src",
   "name": "c++",
   "version": "17"
  }
 },
 "nbformat": 4,
 "nbformat_minor": 5
}
